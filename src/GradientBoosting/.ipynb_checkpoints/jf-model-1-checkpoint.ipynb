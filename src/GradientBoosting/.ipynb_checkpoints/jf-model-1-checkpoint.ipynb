{
 "cells": [
  {
   "cell_type": "code",
   "execution_count": null,
   "metadata": {
    "id": "oS3PLcFyx2qV"
   },
   "outputs": [],
   "source": [
    "# Tratamiento de datos\n",
    "# ==============================================================================\n",
    "import numpy as np\n",
    "import pandas as pd\n",
    "import statsmodels.api as sm\n",
    "\n",
    "# Gráficos\n",
    "# ==============================================================================\n",
    "import matplotlib.pyplot as plt\n",
    "\n",
    "# Preprocesado y modelado\n",
    "# ==============================================================================\n",
    "from sklearn.ensemble import GradientBoostingClassifier\n",
    "from sklearn.metrics import accuracy_score\n",
    "from sklearn.metrics import confusion_matrix\n",
    "from sklearn.compose import ColumnTransformer\n",
    "from sklearn.preprocessing import OneHotEncoder\n",
    "from sklearn.model_selection import cross_val_score\n",
    "from sklearn.model_selection import train_test_split\n",
    "from sklearn.model_selection import RepeatedKFold\n",
    "from sklearn.model_selection import GridSearchCV\n",
    "from sklearn.model_selection import ParameterGrid\n",
    "from sklearn.inspection import permutation_importance\n",
    "import multiprocessing\n",
    "from sklearn.metrics import f1_score"
   ]
  },
  {
   "cell_type": "markdown",
   "metadata": {
    "id": "5Z5IC7jH4eQF"
   },
   "source": [
    "# PREPARO CSV\n"
   ]
  },
  {
   "cell_type": "code",
   "execution_count": null,
   "metadata": {
    "colab": {
     "base_uri": "https://localhost:8080/",
     "height": 204
    },
    "id": "Ycop49sR0N19",
    "outputId": "77c7eae4-7ae5-4ad6-a8a6-b50d7274d779"
   },
   "outputs": [
    {
     "data": {
      "text/html": [
       "<div>\n",
       "<style scoped>\n",
       "    .dataframe tbody tr th:only-of-type {\n",
       "        vertical-align: middle;\n",
       "    }\n",
       "\n",
       "    .dataframe tbody tr th {\n",
       "        vertical-align: top;\n",
       "    }\n",
       "\n",
       "    .dataframe thead th {\n",
       "        text-align: right;\n",
       "    }\n",
       "</style>\n",
       "<table border=\"1\" class=\"dataframe\">\n",
       "  <thead>\n",
       "    <tr style=\"text-align: right;\">\n",
       "      <th></th>\n",
       "      <th>building_id</th>\n",
       "      <th>damage_grade</th>\n",
       "    </tr>\n",
       "  </thead>\n",
       "  <tbody>\n",
       "    <tr>\n",
       "      <th>0</th>\n",
       "      <td>802906</td>\n",
       "      <td>3</td>\n",
       "    </tr>\n",
       "    <tr>\n",
       "      <th>1</th>\n",
       "      <td>28830</td>\n",
       "      <td>2</td>\n",
       "    </tr>\n",
       "    <tr>\n",
       "      <th>2</th>\n",
       "      <td>94947</td>\n",
       "      <td>3</td>\n",
       "    </tr>\n",
       "    <tr>\n",
       "      <th>3</th>\n",
       "      <td>590882</td>\n",
       "      <td>2</td>\n",
       "    </tr>\n",
       "    <tr>\n",
       "      <th>4</th>\n",
       "      <td>201944</td>\n",
       "      <td>3</td>\n",
       "    </tr>\n",
       "  </tbody>\n",
       "</table>\n",
       "</div>"
      ],
      "text/plain": [
       "   building_id  damage_grade\n",
       "0       802906             3\n",
       "1        28830             2\n",
       "2        94947             3\n",
       "3       590882             2\n",
       "4       201944             3"
      ]
     },
     "execution_count": 39,
     "metadata": {
      "tags": []
     },
     "output_type": "execute_result"
    }
   ],
   "source": [
    "labels=pd.read_csv(\"train_labels.csv\")\n",
    "labels.head()"
   ]
  },
  {
   "cell_type": "code",
   "execution_count": null,
   "metadata": {
    "colab": {
     "base_uri": "https://localhost:8080/",
     "height": 224
    },
    "id": "lvRAfRJx24Pv",
    "outputId": "2650951d-aa3f-45ae-bf7a-4ee22fed0428"
   },
   "outputs": [
    {
     "data": {
      "text/html": [
       "<div>\n",
       "<style scoped>\n",
       "    .dataframe tbody tr th:only-of-type {\n",
       "        vertical-align: middle;\n",
       "    }\n",
       "\n",
       "    .dataframe tbody tr th {\n",
       "        vertical-align: top;\n",
       "    }\n",
       "\n",
       "    .dataframe thead th {\n",
       "        text-align: right;\n",
       "    }\n",
       "</style>\n",
       "<table border=\"1\" class=\"dataframe\">\n",
       "  <thead>\n",
       "    <tr style=\"text-align: right;\">\n",
       "      <th></th>\n",
       "      <th>building_id</th>\n",
       "      <th>geo_level_1_id</th>\n",
       "      <th>geo_level_2_id</th>\n",
       "      <th>geo_level_3_id</th>\n",
       "      <th>count_floors_pre_eq</th>\n",
       "      <th>age</th>\n",
       "      <th>area_percentage</th>\n",
       "      <th>height_percentage</th>\n",
       "      <th>land_surface_condition</th>\n",
       "      <th>foundation_type</th>\n",
       "      <th>roof_type</th>\n",
       "      <th>ground_floor_type</th>\n",
       "      <th>other_floor_type</th>\n",
       "      <th>position</th>\n",
       "      <th>plan_configuration</th>\n",
       "      <th>has_superstructure_adobe_mud</th>\n",
       "      <th>has_superstructure_mud_mortar_stone</th>\n",
       "      <th>has_superstructure_stone_flag</th>\n",
       "      <th>has_superstructure_cement_mortar_stone</th>\n",
       "      <th>has_superstructure_mud_mortar_brick</th>\n",
       "      <th>has_superstructure_cement_mortar_brick</th>\n",
       "      <th>has_superstructure_timber</th>\n",
       "      <th>has_superstructure_bamboo</th>\n",
       "      <th>has_superstructure_rc_non_engineered</th>\n",
       "      <th>has_superstructure_rc_engineered</th>\n",
       "      <th>has_superstructure_other</th>\n",
       "      <th>legal_ownership_status</th>\n",
       "      <th>count_families</th>\n",
       "      <th>has_secondary_use</th>\n",
       "      <th>has_secondary_use_agriculture</th>\n",
       "      <th>has_secondary_use_hotel</th>\n",
       "      <th>has_secondary_use_rental</th>\n",
       "      <th>has_secondary_use_institution</th>\n",
       "      <th>has_secondary_use_school</th>\n",
       "      <th>has_secondary_use_industry</th>\n",
       "      <th>has_secondary_use_health_post</th>\n",
       "      <th>has_secondary_use_gov_office</th>\n",
       "      <th>has_secondary_use_use_police</th>\n",
       "      <th>has_secondary_use_other</th>\n",
       "    </tr>\n",
       "  </thead>\n",
       "  <tbody>\n",
       "    <tr>\n",
       "      <th>0</th>\n",
       "      <td>802906</td>\n",
       "      <td>6</td>\n",
       "      <td>487</td>\n",
       "      <td>12198</td>\n",
       "      <td>2</td>\n",
       "      <td>30</td>\n",
       "      <td>6</td>\n",
       "      <td>5</td>\n",
       "      <td>t</td>\n",
       "      <td>r</td>\n",
       "      <td>n</td>\n",
       "      <td>f</td>\n",
       "      <td>q</td>\n",
       "      <td>t</td>\n",
       "      <td>d</td>\n",
       "      <td>1</td>\n",
       "      <td>1</td>\n",
       "      <td>0</td>\n",
       "      <td>0</td>\n",
       "      <td>0</td>\n",
       "      <td>0</td>\n",
       "      <td>0</td>\n",
       "      <td>0</td>\n",
       "      <td>0</td>\n",
       "      <td>0</td>\n",
       "      <td>0</td>\n",
       "      <td>v</td>\n",
       "      <td>1</td>\n",
       "      <td>0</td>\n",
       "      <td>0</td>\n",
       "      <td>0</td>\n",
       "      <td>0</td>\n",
       "      <td>0</td>\n",
       "      <td>0</td>\n",
       "      <td>0</td>\n",
       "      <td>0</td>\n",
       "      <td>0</td>\n",
       "      <td>0</td>\n",
       "      <td>0</td>\n",
       "    </tr>\n",
       "    <tr>\n",
       "      <th>1</th>\n",
       "      <td>28830</td>\n",
       "      <td>8</td>\n",
       "      <td>900</td>\n",
       "      <td>2812</td>\n",
       "      <td>2</td>\n",
       "      <td>10</td>\n",
       "      <td>8</td>\n",
       "      <td>7</td>\n",
       "      <td>o</td>\n",
       "      <td>r</td>\n",
       "      <td>n</td>\n",
       "      <td>x</td>\n",
       "      <td>q</td>\n",
       "      <td>s</td>\n",
       "      <td>d</td>\n",
       "      <td>0</td>\n",
       "      <td>1</td>\n",
       "      <td>0</td>\n",
       "      <td>0</td>\n",
       "      <td>0</td>\n",
       "      <td>0</td>\n",
       "      <td>0</td>\n",
       "      <td>0</td>\n",
       "      <td>0</td>\n",
       "      <td>0</td>\n",
       "      <td>0</td>\n",
       "      <td>v</td>\n",
       "      <td>1</td>\n",
       "      <td>0</td>\n",
       "      <td>0</td>\n",
       "      <td>0</td>\n",
       "      <td>0</td>\n",
       "      <td>0</td>\n",
       "      <td>0</td>\n",
       "      <td>0</td>\n",
       "      <td>0</td>\n",
       "      <td>0</td>\n",
       "      <td>0</td>\n",
       "      <td>0</td>\n",
       "    </tr>\n",
       "    <tr>\n",
       "      <th>2</th>\n",
       "      <td>94947</td>\n",
       "      <td>21</td>\n",
       "      <td>363</td>\n",
       "      <td>8973</td>\n",
       "      <td>2</td>\n",
       "      <td>10</td>\n",
       "      <td>5</td>\n",
       "      <td>5</td>\n",
       "      <td>t</td>\n",
       "      <td>r</td>\n",
       "      <td>n</td>\n",
       "      <td>f</td>\n",
       "      <td>x</td>\n",
       "      <td>t</td>\n",
       "      <td>d</td>\n",
       "      <td>0</td>\n",
       "      <td>1</td>\n",
       "      <td>0</td>\n",
       "      <td>0</td>\n",
       "      <td>0</td>\n",
       "      <td>0</td>\n",
       "      <td>0</td>\n",
       "      <td>0</td>\n",
       "      <td>0</td>\n",
       "      <td>0</td>\n",
       "      <td>0</td>\n",
       "      <td>v</td>\n",
       "      <td>1</td>\n",
       "      <td>0</td>\n",
       "      <td>0</td>\n",
       "      <td>0</td>\n",
       "      <td>0</td>\n",
       "      <td>0</td>\n",
       "      <td>0</td>\n",
       "      <td>0</td>\n",
       "      <td>0</td>\n",
       "      <td>0</td>\n",
       "      <td>0</td>\n",
       "      <td>0</td>\n",
       "    </tr>\n",
       "    <tr>\n",
       "      <th>3</th>\n",
       "      <td>590882</td>\n",
       "      <td>22</td>\n",
       "      <td>418</td>\n",
       "      <td>10694</td>\n",
       "      <td>2</td>\n",
       "      <td>10</td>\n",
       "      <td>6</td>\n",
       "      <td>5</td>\n",
       "      <td>t</td>\n",
       "      <td>r</td>\n",
       "      <td>n</td>\n",
       "      <td>f</td>\n",
       "      <td>x</td>\n",
       "      <td>s</td>\n",
       "      <td>d</td>\n",
       "      <td>0</td>\n",
       "      <td>1</td>\n",
       "      <td>0</td>\n",
       "      <td>0</td>\n",
       "      <td>0</td>\n",
       "      <td>0</td>\n",
       "      <td>1</td>\n",
       "      <td>1</td>\n",
       "      <td>0</td>\n",
       "      <td>0</td>\n",
       "      <td>0</td>\n",
       "      <td>v</td>\n",
       "      <td>1</td>\n",
       "      <td>0</td>\n",
       "      <td>0</td>\n",
       "      <td>0</td>\n",
       "      <td>0</td>\n",
       "      <td>0</td>\n",
       "      <td>0</td>\n",
       "      <td>0</td>\n",
       "      <td>0</td>\n",
       "      <td>0</td>\n",
       "      <td>0</td>\n",
       "      <td>0</td>\n",
       "    </tr>\n",
       "    <tr>\n",
       "      <th>4</th>\n",
       "      <td>201944</td>\n",
       "      <td>11</td>\n",
       "      <td>131</td>\n",
       "      <td>1488</td>\n",
       "      <td>3</td>\n",
       "      <td>30</td>\n",
       "      <td>8</td>\n",
       "      <td>9</td>\n",
       "      <td>t</td>\n",
       "      <td>r</td>\n",
       "      <td>n</td>\n",
       "      <td>f</td>\n",
       "      <td>x</td>\n",
       "      <td>s</td>\n",
       "      <td>d</td>\n",
       "      <td>1</td>\n",
       "      <td>0</td>\n",
       "      <td>0</td>\n",
       "      <td>0</td>\n",
       "      <td>0</td>\n",
       "      <td>0</td>\n",
       "      <td>0</td>\n",
       "      <td>0</td>\n",
       "      <td>0</td>\n",
       "      <td>0</td>\n",
       "      <td>0</td>\n",
       "      <td>v</td>\n",
       "      <td>1</td>\n",
       "      <td>0</td>\n",
       "      <td>0</td>\n",
       "      <td>0</td>\n",
       "      <td>0</td>\n",
       "      <td>0</td>\n",
       "      <td>0</td>\n",
       "      <td>0</td>\n",
       "      <td>0</td>\n",
       "      <td>0</td>\n",
       "      <td>0</td>\n",
       "      <td>0</td>\n",
       "    </tr>\n",
       "  </tbody>\n",
       "</table>\n",
       "</div>"
      ],
      "text/plain": [
       "   building_id  ...  has_secondary_use_other\n",
       "0       802906  ...                        0\n",
       "1        28830  ...                        0\n",
       "2        94947  ...                        0\n",
       "3       590882  ...                        0\n",
       "4       201944  ...                        0\n",
       "\n",
       "[5 rows x 39 columns]"
      ]
     },
     "execution_count": 40,
     "metadata": {
      "tags": []
     },
     "output_type": "execute_result"
    }
   ],
   "source": [
    "values=pd.read_csv(\"train_values.csv\")\n",
    "values.head()"
   ]
  },
  {
   "cell_type": "code",
   "execution_count": null,
   "metadata": {
    "colab": {
     "base_uri": "https://localhost:8080/"
    },
    "id": "qmLkwqs63Fhc",
    "outputId": "cad8ecc1-ac29-4577-f797-6b9252665827"
   },
   "outputs": [
    {
     "data": {
      "text/plain": [
       "False"
      ]
     },
     "execution_count": 41,
     "metadata": {
      "tags": []
     },
     "output_type": "execute_result"
    }
   ],
   "source": [
    "values.isnull().values.any()"
   ]
  },
  {
   "cell_type": "code",
   "execution_count": null,
   "metadata": {
    "id": "6oEG2A77aVdk"
   },
   "outputs": [],
   "source": [
    "values = values.dropna()"
   ]
  },
  {
   "cell_type": "code",
   "execution_count": null,
   "metadata": {
    "colab": {
     "base_uri": "https://localhost:8080/"
    },
    "id": "YFkxsAFa3PWR",
    "outputId": "1cf7131a-eb51-4790-8e49-5f127530f444"
   },
   "outputs": [
    {
     "data": {
      "text/plain": [
       "False"
      ]
     },
     "execution_count": 43,
     "metadata": {
      "tags": []
     },
     "output_type": "execute_result"
    }
   ],
   "source": [
    "labels.isnull().values.any()"
   ]
  },
  {
   "cell_type": "code",
   "execution_count": null,
   "metadata": {
    "colab": {
     "base_uri": "https://localhost:8080/"
    },
    "id": "WT-SXWgn3Slp",
    "outputId": "3511c1bc-2674-470a-e059-3d7b76f55c7a"
   },
   "outputs": [
    {
     "name": "stdout",
     "output_type": "stream",
     "text": [
      "<class 'pandas.core.frame.DataFrame'>\n",
      "Int64Index: 260601 entries, 0 to 260600\n",
      "Data columns (total 39 columns):\n",
      " #   Column                                  Non-Null Count   Dtype \n",
      "---  ------                                  --------------   ----- \n",
      " 0   building_id                             260601 non-null  int64 \n",
      " 1   geo_level_1_id                          260601 non-null  int64 \n",
      " 2   geo_level_2_id                          260601 non-null  int64 \n",
      " 3   geo_level_3_id                          260601 non-null  int64 \n",
      " 4   count_floors_pre_eq                     260601 non-null  int64 \n",
      " 5   age                                     260601 non-null  int64 \n",
      " 6   area_percentage                         260601 non-null  int64 \n",
      " 7   height_percentage                       260601 non-null  int64 \n",
      " 8   land_surface_condition                  260601 non-null  object\n",
      " 9   foundation_type                         260601 non-null  object\n",
      " 10  roof_type                               260601 non-null  object\n",
      " 11  ground_floor_type                       260601 non-null  object\n",
      " 12  other_floor_type                        260601 non-null  object\n",
      " 13  position                                260601 non-null  object\n",
      " 14  plan_configuration                      260601 non-null  object\n",
      " 15  has_superstructure_adobe_mud            260601 non-null  int64 \n",
      " 16  has_superstructure_mud_mortar_stone     260601 non-null  int64 \n",
      " 17  has_superstructure_stone_flag           260601 non-null  int64 \n",
      " 18  has_superstructure_cement_mortar_stone  260601 non-null  int64 \n",
      " 19  has_superstructure_mud_mortar_brick     260601 non-null  int64 \n",
      " 20  has_superstructure_cement_mortar_brick  260601 non-null  int64 \n",
      " 21  has_superstructure_timber               260601 non-null  int64 \n",
      " 22  has_superstructure_bamboo               260601 non-null  int64 \n",
      " 23  has_superstructure_rc_non_engineered    260601 non-null  int64 \n",
      " 24  has_superstructure_rc_engineered        260601 non-null  int64 \n",
      " 25  has_superstructure_other                260601 non-null  int64 \n",
      " 26  legal_ownership_status                  260601 non-null  object\n",
      " 27  count_families                          260601 non-null  int64 \n",
      " 28  has_secondary_use                       260601 non-null  int64 \n",
      " 29  has_secondary_use_agriculture           260601 non-null  int64 \n",
      " 30  has_secondary_use_hotel                 260601 non-null  int64 \n",
      " 31  has_secondary_use_rental                260601 non-null  int64 \n",
      " 32  has_secondary_use_institution           260601 non-null  int64 \n",
      " 33  has_secondary_use_school                260601 non-null  int64 \n",
      " 34  has_secondary_use_industry              260601 non-null  int64 \n",
      " 35  has_secondary_use_health_post           260601 non-null  int64 \n",
      " 36  has_secondary_use_gov_office            260601 non-null  int64 \n",
      " 37  has_secondary_use_use_police            260601 non-null  int64 \n",
      " 38  has_secondary_use_other                 260601 non-null  int64 \n",
      "dtypes: int64(31), object(8)\n",
      "memory usage: 79.5+ MB\n"
     ]
    }
   ],
   "source": [
    "values.info()"
   ]
  },
  {
   "cell_type": "code",
   "execution_count": null,
   "metadata": {
    "colab": {
     "base_uri": "https://localhost:8080/"
    },
    "id": "2K9gA5gx3_va",
    "outputId": "2d0707d5-220a-4def-b923-9957799f7f5b"
   },
   "outputs": [
    {
     "name": "stdout",
     "output_type": "stream",
     "text": [
      "<class 'pandas.core.frame.DataFrame'>\n",
      "Int64Index: 260601 entries, 0 to 260600\n",
      "Data columns (total 39 columns):\n",
      " #   Column                                  Non-Null Count   Dtype   \n",
      "---  ------                                  --------------   -----   \n",
      " 0   building_id                             260601 non-null  int64   \n",
      " 1   geo_level_1_id                          260601 non-null  category\n",
      " 2   geo_level_2_id                          260601 non-null  int64   \n",
      " 3   geo_level_3_id                          260601 non-null  int64   \n",
      " 4   count_floors_pre_eq                     260601 non-null  int64   \n",
      " 5   age                                     260601 non-null  int64   \n",
      " 6   area_percentage                         260601 non-null  int64   \n",
      " 7   height_percentage                       260601 non-null  int64   \n",
      " 8   land_surface_condition                  260601 non-null  category\n",
      " 9   foundation_type                         260601 non-null  category\n",
      " 10  roof_type                               260601 non-null  category\n",
      " 11  ground_floor_type                       260601 non-null  category\n",
      " 12  other_floor_type                        260601 non-null  category\n",
      " 13  position                                260601 non-null  category\n",
      " 14  plan_configuration                      260601 non-null  category\n",
      " 15  has_superstructure_adobe_mud            260601 non-null  int64   \n",
      " 16  has_superstructure_mud_mortar_stone     260601 non-null  int64   \n",
      " 17  has_superstructure_stone_flag           260601 non-null  int64   \n",
      " 18  has_superstructure_cement_mortar_stone  260601 non-null  int64   \n",
      " 19  has_superstructure_mud_mortar_brick     260601 non-null  int64   \n",
      " 20  has_superstructure_cement_mortar_brick  260601 non-null  int64   \n",
      " 21  has_superstructure_timber               260601 non-null  int64   \n",
      " 22  has_superstructure_bamboo               260601 non-null  int64   \n",
      " 23  has_superstructure_rc_non_engineered    260601 non-null  int64   \n",
      " 24  has_superstructure_rc_engineered        260601 non-null  int64   \n",
      " 25  has_superstructure_other                260601 non-null  int64   \n",
      " 26  legal_ownership_status                  260601 non-null  category\n",
      " 27  count_families                          260601 non-null  int64   \n",
      " 28  has_secondary_use                       260601 non-null  int64   \n",
      " 29  has_secondary_use_agriculture           260601 non-null  int64   \n",
      " 30  has_secondary_use_hotel                 260601 non-null  int64   \n",
      " 31  has_secondary_use_rental                260601 non-null  int64   \n",
      " 32  has_secondary_use_institution           260601 non-null  int64   \n",
      " 33  has_secondary_use_school                260601 non-null  int64   \n",
      " 34  has_secondary_use_industry              260601 non-null  int64   \n",
      " 35  has_secondary_use_health_post           260601 non-null  int64   \n",
      " 36  has_secondary_use_gov_office            260601 non-null  int64   \n",
      " 37  has_secondary_use_use_police            260601 non-null  int64   \n",
      " 38  has_secondary_use_other                 260601 non-null  int64   \n",
      "dtypes: category(9), int64(30)\n",
      "memory usage: 63.9 MB\n"
     ]
    }
   ],
   "source": [
    "to_be_categorized = [\"land_surface_condition\", \"foundation_type\", \"roof_type\",\\\n",
    "                     \"position\", \"ground_floor_type\", \"other_floor_type\",\\\n",
    "                     \"plan_configuration\", \"legal_ownership_status\", \"geo_level_1_id\"]\n",
    "for row in to_be_categorized:\n",
    "    values[row] = values[row].astype(\"category\")\n",
    "values.info()"
   ]
  },
  {
   "cell_type": "code",
   "execution_count": null,
   "metadata": {
    "colab": {
     "base_uri": "https://localhost:8080/"
    },
    "id": "AiuCbCfy4Dqw",
    "outputId": "249a7fe9-d3c7-44c6-e46c-412a75caef7c"
   },
   "outputs": [
    {
     "name": "stdout",
     "output_type": "stream",
     "text": [
      "<class 'pandas.core.frame.DataFrame'>\n",
      "Int64Index: 260601 entries, 0 to 260600\n",
      "Data columns (total 39 columns):\n",
      " #   Column                                  Non-Null Count   Dtype   \n",
      "---  ------                                  --------------   -----   \n",
      " 0   building_id                             260601 non-null  int32   \n",
      " 1   geo_level_1_id                          260601 non-null  category\n",
      " 2   geo_level_2_id                          260601 non-null  int16   \n",
      " 3   geo_level_3_id                          260601 non-null  int16   \n",
      " 4   count_floors_pre_eq                     260601 non-null  int8    \n",
      " 5   age                                     260601 non-null  int16   \n",
      " 6   area_percentage                         260601 non-null  int8    \n",
      " 7   height_percentage                       260601 non-null  int8    \n",
      " 8   land_surface_condition                  260601 non-null  category\n",
      " 9   foundation_type                         260601 non-null  category\n",
      " 10  roof_type                               260601 non-null  category\n",
      " 11  ground_floor_type                       260601 non-null  category\n",
      " 12  other_floor_type                        260601 non-null  category\n",
      " 13  position                                260601 non-null  category\n",
      " 14  plan_configuration                      260601 non-null  category\n",
      " 15  has_superstructure_adobe_mud            260601 non-null  int8    \n",
      " 16  has_superstructure_mud_mortar_stone     260601 non-null  int8    \n",
      " 17  has_superstructure_stone_flag           260601 non-null  int8    \n",
      " 18  has_superstructure_cement_mortar_stone  260601 non-null  int8    \n",
      " 19  has_superstructure_mud_mortar_brick     260601 non-null  int8    \n",
      " 20  has_superstructure_cement_mortar_brick  260601 non-null  int8    \n",
      " 21  has_superstructure_timber               260601 non-null  int8    \n",
      " 22  has_superstructure_bamboo               260601 non-null  int8    \n",
      " 23  has_superstructure_rc_non_engineered    260601 non-null  int8    \n",
      " 24  has_superstructure_rc_engineered        260601 non-null  int8    \n",
      " 25  has_superstructure_other                260601 non-null  int8    \n",
      " 26  legal_ownership_status                  260601 non-null  category\n",
      " 27  count_families                          260601 non-null  int8    \n",
      " 28  has_secondary_use                       260601 non-null  int8    \n",
      " 29  has_secondary_use_agriculture           260601 non-null  int8    \n",
      " 30  has_secondary_use_hotel                 260601 non-null  int8    \n",
      " 31  has_secondary_use_rental                260601 non-null  int8    \n",
      " 32  has_secondary_use_institution           260601 non-null  int8    \n",
      " 33  has_secondary_use_school                260601 non-null  int8    \n",
      " 34  has_secondary_use_industry              260601 non-null  int8    \n",
      " 35  has_secondary_use_health_post           260601 non-null  int8    \n",
      " 36  has_secondary_use_gov_office            260601 non-null  int8    \n",
      " 37  has_secondary_use_use_police            260601 non-null  int8    \n",
      " 38  has_secondary_use_other                 260601 non-null  int8    \n",
      "dtypes: category(9), int16(3), int32(1), int8(26)\n",
      "memory usage: 13.2 MB\n"
     ]
    }
   ],
   "source": [
    "datatypes = dict(values.dtypes)\n",
    "for row in values.columns:\n",
    "    if datatypes[row] != \"int64\" and datatypes[row] != \"int32\" and \\\n",
    "       datatypes[row] != \"int16\" and datatypes[row] != \"int8\":\n",
    "        continue\n",
    "    if values[row].nlargest(1).item() > 32767 and values[row].nlargest(1).item() < 2**31:\n",
    "        values[row] = values[row].astype(np.int32)\n",
    "    elif values[row].nlargest(1).item() > 127:\n",
    "        values[row] = values[row].astype(np.int16)\n",
    "    else:\n",
    "        values[row] = values[row].astype(np.int8)\n",
    "values.info()"
   ]
  },
  {
   "cell_type": "code",
   "execution_count": null,
   "metadata": {
    "colab": {
     "base_uri": "https://localhost:8080/"
    },
    "id": "Q5n6W6gL4H48",
    "outputId": "8e62a5ef-c287-4e94-f3ce-23663da7b090"
   },
   "outputs": [
    {
     "name": "stdout",
     "output_type": "stream",
     "text": [
      "<class 'pandas.core.frame.DataFrame'>\n",
      "RangeIndex: 260601 entries, 0 to 260600\n",
      "Data columns (total 2 columns):\n",
      " #   Column        Non-Null Count   Dtype\n",
      "---  ------        --------------   -----\n",
      " 0   building_id   260601 non-null  int64\n",
      " 1   damage_grade  260601 non-null  int64\n",
      "dtypes: int64(2)\n",
      "memory usage: 4.0 MB\n"
     ]
    }
   ],
   "source": [
    "labels.info()"
   ]
  },
  {
   "cell_type": "code",
   "execution_count": null,
   "metadata": {
    "colab": {
     "base_uri": "https://localhost:8080/"
    },
    "id": "4GclKble4QMz",
    "outputId": "990b1764-a26b-455f-f70f-7eb666cfc75f"
   },
   "outputs": [
    {
     "name": "stdout",
     "output_type": "stream",
     "text": [
      "<class 'pandas.core.frame.DataFrame'>\n",
      "RangeIndex: 260601 entries, 0 to 260600\n",
      "Data columns (total 2 columns):\n",
      " #   Column        Non-Null Count   Dtype\n",
      "---  ------        --------------   -----\n",
      " 0   building_id   260601 non-null  int32\n",
      " 1   damage_grade  260601 non-null  int8 \n",
      "dtypes: int32(1), int8(1)\n",
      "memory usage: 1.2 MB\n"
     ]
    }
   ],
   "source": [
    "labels[\"building_id\"] = labels[\"building_id\"].astype(np.int32)\n",
    "labels[\"damage_grade\"] = labels[\"damage_grade\"].astype(np.int8)\n",
    "labels.info()"
   ]
  },
  {
   "cell_type": "code",
   "execution_count": null,
   "metadata": {
    "id": "DPJa5KvIm9lb"
   },
   "outputs": [],
   "source": [
    "important_values = values\\\n",
    "                .merge(labels, on=\"building_id\")\n",
    "important_values.drop(columns=[\"building_id\"], inplace = True)"
   ]
  },
  {
   "cell_type": "code",
   "execution_count": null,
   "metadata": {
    "colab": {
     "base_uri": "https://localhost:8080/"
    },
    "id": "DEmFjcDa8DZL",
    "outputId": "9d38d283-c93e-4fd7-9bcd-90d6eec67ee1"
   },
   "outputs": [
    {
     "name": "stdout",
     "output_type": "stream",
     "text": [
      "<class 'pandas.core.frame.DataFrame'>\n",
      "Int64Index: 260601 entries, 0 to 260600\n",
      "Data columns (total 39 columns):\n",
      " #   Column                                  Non-Null Count   Dtype   \n",
      "---  ------                                  --------------   -----   \n",
      " 0   geo_level_1_id                          260601 non-null  category\n",
      " 1   geo_level_2_id                          260601 non-null  int16   \n",
      " 2   geo_level_3_id                          260601 non-null  int16   \n",
      " 3   count_floors_pre_eq                     260601 non-null  int8    \n",
      " 4   age                                     260601 non-null  int16   \n",
      " 5   area_percentage                         260601 non-null  int8    \n",
      " 6   height_percentage                       260601 non-null  int8    \n",
      " 7   land_surface_condition                  260601 non-null  category\n",
      " 8   foundation_type                         260601 non-null  category\n",
      " 9   roof_type                               260601 non-null  category\n",
      " 10  ground_floor_type                       260601 non-null  category\n",
      " 11  other_floor_type                        260601 non-null  category\n",
      " 12  position                                260601 non-null  category\n",
      " 13  plan_configuration                      260601 non-null  category\n",
      " 14  has_superstructure_adobe_mud            260601 non-null  int8    \n",
      " 15  has_superstructure_mud_mortar_stone     260601 non-null  int8    \n",
      " 16  has_superstructure_stone_flag           260601 non-null  int8    \n",
      " 17  has_superstructure_cement_mortar_stone  260601 non-null  int8    \n",
      " 18  has_superstructure_mud_mortar_brick     260601 non-null  int8    \n",
      " 19  has_superstructure_cement_mortar_brick  260601 non-null  int8    \n",
      " 20  has_superstructure_timber               260601 non-null  int8    \n",
      " 21  has_superstructure_bamboo               260601 non-null  int8    \n",
      " 22  has_superstructure_rc_non_engineered    260601 non-null  int8    \n",
      " 23  has_superstructure_rc_engineered        260601 non-null  int8    \n",
      " 24  has_superstructure_other                260601 non-null  int8    \n",
      " 25  legal_ownership_status                  260601 non-null  category\n",
      " 26  count_families                          260601 non-null  int8    \n",
      " 27  has_secondary_use                       260601 non-null  int8    \n",
      " 28  has_secondary_use_agriculture           260601 non-null  int8    \n",
      " 29  has_secondary_use_hotel                 260601 non-null  int8    \n",
      " 30  has_secondary_use_rental                260601 non-null  int8    \n",
      " 31  has_secondary_use_institution           260601 non-null  int8    \n",
      " 32  has_secondary_use_school                260601 non-null  int8    \n",
      " 33  has_secondary_use_industry              260601 non-null  int8    \n",
      " 34  has_secondary_use_health_post           260601 non-null  int8    \n",
      " 35  has_secondary_use_gov_office            260601 non-null  int8    \n",
      " 36  has_secondary_use_use_police            260601 non-null  int8    \n",
      " 37  has_secondary_use_other                 260601 non-null  int8    \n",
      " 38  damage_grade                            260601 non-null  int8    \n",
      "dtypes: category(9), int16(3), int8(27)\n",
      "memory usage: 12.4 MB\n"
     ]
    }
   ],
   "source": [
    "important_values.info()"
   ]
  },
  {
   "cell_type": "code",
   "execution_count": null,
   "metadata": {
    "colab": {
     "base_uri": "https://localhost:8080/"
    },
    "id": "IK81aWD-7fZp",
    "outputId": "8f19e98d-137f-463c-b1fa-534d267b6bb4"
   },
   "outputs": [
    {
     "name": "stdout",
     "output_type": "stream",
     "text": [
      "<class 'pandas.core.frame.DataFrame'>\n",
      "RangeIndex: 221510 entries, 0 to 221509\n",
      "Data columns (total 98 columns):\n",
      " #   Column                                  Non-Null Count   Dtype  \n",
      "---  ------                                  --------------   -----  \n",
      " 0   geo_level_2_id                          221510 non-null  float64\n",
      " 1   geo_level_3_id                          221510 non-null  float64\n",
      " 2   count_floors_pre_eq                     221510 non-null  float64\n",
      " 3   age                                     221510 non-null  float64\n",
      " 4   area_percentage                         221510 non-null  float64\n",
      " 5   height_percentage                       221510 non-null  float64\n",
      " 6   has_superstructure_adobe_mud            221510 non-null  float64\n",
      " 7   has_superstructure_mud_mortar_stone     221510 non-null  float64\n",
      " 8   has_superstructure_stone_flag           221510 non-null  float64\n",
      " 9   has_superstructure_cement_mortar_stone  221510 non-null  float64\n",
      " 10  has_superstructure_mud_mortar_brick     221510 non-null  float64\n",
      " 11  has_superstructure_cement_mortar_brick  221510 non-null  float64\n",
      " 12  has_superstructure_timber               221510 non-null  float64\n",
      " 13  has_superstructure_bamboo               221510 non-null  float64\n",
      " 14  has_superstructure_rc_non_engineered    221510 non-null  float64\n",
      " 15  has_superstructure_rc_engineered        221510 non-null  float64\n",
      " 16  has_superstructure_other                221510 non-null  float64\n",
      " 17  count_families                          221510 non-null  float64\n",
      " 18  has_secondary_use                       221510 non-null  float64\n",
      " 19  has_secondary_use_agriculture           221510 non-null  float64\n",
      " 20  has_secondary_use_hotel                 221510 non-null  float64\n",
      " 21  has_secondary_use_rental                221510 non-null  float64\n",
      " 22  has_secondary_use_institution           221510 non-null  float64\n",
      " 23  has_secondary_use_school                221510 non-null  float64\n",
      " 24  has_secondary_use_industry              221510 non-null  float64\n",
      " 25  has_secondary_use_health_post           221510 non-null  float64\n",
      " 26  has_secondary_use_gov_office            221510 non-null  float64\n",
      " 27  has_secondary_use_use_police            221510 non-null  float64\n",
      " 28  has_secondary_use_other                 221510 non-null  float64\n",
      " 29  geo_level_1_id_0                        221510 non-null  float64\n",
      " 30  geo_level_1_id_1                        221510 non-null  float64\n",
      " 31  geo_level_1_id_2                        221510 non-null  float64\n",
      " 32  geo_level_1_id_3                        221510 non-null  float64\n",
      " 33  geo_level_1_id_4                        221510 non-null  float64\n",
      " 34  geo_level_1_id_5                        221510 non-null  float64\n",
      " 35  geo_level_1_id_6                        221510 non-null  float64\n",
      " 36  geo_level_1_id_7                        221510 non-null  float64\n",
      " 37  geo_level_1_id_8                        221510 non-null  float64\n",
      " 38  geo_level_1_id_9                        221510 non-null  float64\n",
      " 39  geo_level_1_id_10                       221510 non-null  float64\n",
      " 40  geo_level_1_id_11                       221510 non-null  float64\n",
      " 41  geo_level_1_id_12                       221510 non-null  float64\n",
      " 42  geo_level_1_id_13                       221510 non-null  float64\n",
      " 43  geo_level_1_id_14                       221510 non-null  float64\n",
      " 44  geo_level_1_id_15                       221510 non-null  float64\n",
      " 45  geo_level_1_id_16                       221510 non-null  float64\n",
      " 46  geo_level_1_id_17                       221510 non-null  float64\n",
      " 47  geo_level_1_id_18                       221510 non-null  float64\n",
      " 48  geo_level_1_id_19                       221510 non-null  float64\n",
      " 49  geo_level_1_id_20                       221510 non-null  float64\n",
      " 50  geo_level_1_id_21                       221510 non-null  float64\n",
      " 51  geo_level_1_id_22                       221510 non-null  float64\n",
      " 52  geo_level_1_id_23                       221510 non-null  float64\n",
      " 53  geo_level_1_id_24                       221510 non-null  float64\n",
      " 54  geo_level_1_id_25                       221510 non-null  float64\n",
      " 55  geo_level_1_id_26                       221510 non-null  float64\n",
      " 56  geo_level_1_id_27                       221510 non-null  float64\n",
      " 57  geo_level_1_id_28                       221510 non-null  float64\n",
      " 58  geo_level_1_id_29                       221510 non-null  float64\n",
      " 59  geo_level_1_id_30                       221510 non-null  float64\n",
      " 60  land_surface_condition_n                221510 non-null  float64\n",
      " 61  land_surface_condition_o                221510 non-null  float64\n",
      " 62  land_surface_condition_t                221510 non-null  float64\n",
      " 63  foundation_type_h                       221510 non-null  float64\n",
      " 64  foundation_type_i                       221510 non-null  float64\n",
      " 65  foundation_type_r                       221510 non-null  float64\n",
      " 66  foundation_type_u                       221510 non-null  float64\n",
      " 67  foundation_type_w                       221510 non-null  float64\n",
      " 68  roof_type_n                             221510 non-null  float64\n",
      " 69  roof_type_q                             221510 non-null  float64\n",
      " 70  roof_type_x                             221510 non-null  float64\n",
      " 71  ground_floor_type_f                     221510 non-null  float64\n",
      " 72  ground_floor_type_m                     221510 non-null  float64\n",
      " 73  ground_floor_type_v                     221510 non-null  float64\n",
      " 74  ground_floor_type_x                     221510 non-null  float64\n",
      " 75  ground_floor_type_z                     221510 non-null  float64\n",
      " 76  other_floor_type_j                      221510 non-null  float64\n",
      " 77  other_floor_type_q                      221510 non-null  float64\n",
      " 78  other_floor_type_s                      221510 non-null  float64\n",
      " 79  other_floor_type_x                      221510 non-null  float64\n",
      " 80  position_j                              221510 non-null  float64\n",
      " 81  position_o                              221510 non-null  float64\n",
      " 82  position_s                              221510 non-null  float64\n",
      " 83  position_t                              221510 non-null  float64\n",
      " 84  plan_configuration_a                    221510 non-null  float64\n",
      " 85  plan_configuration_c                    221510 non-null  float64\n",
      " 86  plan_configuration_d                    221510 non-null  float64\n",
      " 87  plan_configuration_f                    221510 non-null  float64\n",
      " 88  plan_configuration_m                    221510 non-null  float64\n",
      " 89  plan_configuration_n                    221510 non-null  float64\n",
      " 90  plan_configuration_o                    221510 non-null  float64\n",
      " 91  plan_configuration_q                    221510 non-null  float64\n",
      " 92  plan_configuration_s                    221510 non-null  float64\n",
      " 93  plan_configuration_u                    221510 non-null  float64\n",
      " 94  legal_ownership_status_a                221510 non-null  float64\n",
      " 95  legal_ownership_status_r                221510 non-null  float64\n",
      " 96  legal_ownership_status_v                221510 non-null  float64\n",
      " 97  legal_ownership_status_w                221510 non-null  float64\n",
      "dtypes: float64(98)\n",
      "memory usage: 165.6 MB\n"
     ]
    }
   ],
   "source": [
    "X_train, X_test, y_train, y_test = train_test_split(important_values.drop(columns = 'damage_grade'),\n",
    "                                        important_values['damage_grade'], test_size = 0.15, random_state = 123)\n",
    "\n",
    "\n",
    "def feature_engieniere(df):\n",
    "  df[\"volume_percentage\"] = df[\"height_percentage\"] *  df[\"area_percentage\"]\n",
    "  df[\"less_than_25_years\"] = df[\"age\"] >= 25\n",
    "  df[\"more_than_20_metres\"] = df[\"height_percentage\"] <= 20 \n",
    "  for i in [1,2,3]:\n",
    "    df[f\"geo_{i}_height_avg\"] = df.groupby(f\"geo_level_{i}_id\")[\"height_percentage\"].transform(np.average)\n",
    "    df[f\"geo_{i}_area_avg\"] = df.groupby(f\"geo_level_{i}_id\")[\"area_percentage\"].transform(np.average)\n",
    "    df[f\"geo_{i}_age_avg\"] =  df.groupby(f\"geo_level_{i}_id\")[\"age\"].transform(np.average)\n",
    "    df[f\"geo_{i}_families_avg\"] = df.groupby(f\"geo_level_{i}_id\")[\"count_families\"].transform(np.average)\n",
    "    df[f\"geo_{i}_volume_avg\"] = df.groupby(f\"geo_level_{i}_id\")[\"volume_percentage\"].transform(np.average)\n",
    "    df[f\"geo_{i}_floors_avg\"] = df.groupby(f\"geo_level_{i}_id\")[\"count_floors_pre_eq\"].transform(np.average)\n",
    "  return df\n",
    "\n",
    "#X_train = feature_engieniere(X_train)\n",
    "#X_test = feature_engieniere(X_test)\n",
    "\n",
    "category_cols = X_train.select_dtypes(include=['category', \"bool\"]).columns.to_list()\n",
    "numeric_cols = X_train.select_dtypes(include=['int16', 'int8', \"float64\"]).columns.to_list()\n",
    "\n",
    "preprocessor = ColumnTransformer([('onehot', OneHotEncoder(handle_unknown='ignore'), category_cols)],\n",
    "                                  remainder='passthrough')\n",
    "\n",
    "X_train_prep = preprocessor.fit_transform(X_train)\n",
    "X_test_prep  = preprocessor.transform(X_test)\n",
    "\n",
    "encoded_cat = preprocessor.named_transformers_['onehot'].get_feature_names(category_cols)\n",
    "labels = np.concatenate([numeric_cols, encoded_cat])\n",
    "\n",
    "X_train_prep = pd.DataFrame(X_train_prep, columns=labels)\n",
    "X_test_prep  = pd.DataFrame(X_test_prep, columns=labels)\n",
    "X_train_prep.info()"
   ]
  },
  {
   "cell_type": "code",
   "execution_count": null,
   "metadata": {
    "colab": {
     "base_uri": "https://localhost:8080/"
    },
    "id": "hXQVJXvVXBSi",
    "outputId": "1d0f6cf2-1164-4659-81fe-1b32873e702a"
   },
   "outputs": [
    {
     "name": "stdout",
     "output_type": "stream",
     "text": [
      "Fitting 3 folds for each of 16 candidates, totalling 48 fits\n"
     ]
    },
    {
     "name": "stderr",
     "output_type": "stream",
     "text": [
      "[Parallel(n_jobs=-1)]: Using backend LokyBackend with 2 concurrent workers.\n"
     ]
    }
   ],
   "source": [
    "param_grid = {'n_estimators'  : [350,300],\n",
    "              'max_depth'     : [9,8], \n",
    "              'subsample'     : [0.6, 0.8], \n",
    "              'learning_rate' : [0.15, 0.45] \n",
    "             }\n",
    "\n",
    "grid = GridSearchCV(\n",
    "        estimator  = GradientBoostingClassifier(random_state=123),\n",
    "        param_grid = param_grid,\n",
    "        scoring    = 'accuracy',\n",
    "        n_jobs     = -1,\n",
    "        cv         = RepeatedKFold(n_splits=3, n_repeats=1, random_state=123), \n",
    "        refit      = True,\n",
    "        verbose    = 1,\n",
    "        return_train_score = True\n",
    "       )\n",
    "\n",
    "grid.fit(X = X_train_prep, y = y_train)\n",
    "\n",
    "resultados = pd.DataFrame(grid.cv_results_)\n",
    "resultados.filter(regex = '(param*|mean_t|std_t)') \\\n",
    "    .drop(columns = 'params') \\\n",
    "    .sort_values('mean_test_score', ascending = False) \\\n",
    "    .head(4)\n",
    "\n",
    "modelo_final = grid.best_estimator_ "
   ]
  },
  {
   "cell_type": "code",
   "execution_count": null,
   "metadata": {
    "id": "CIzewnimXJgM"
   },
   "outputs": [],
   "source": [
    "# Mejores hiperparámetros por validación cruzada\n",
    "# ==============================================================================\n",
    "print(\"----------------------------------------\")\n",
    "print(\"Mejores hiperparámetros encontrados (cv)\")\n",
    "print(\"----------------------------------------\")\n",
    "print(grid.best_params_, \":\", grid.best_score_, grid.scoring)"
   ]
  },
  {
   "cell_type": "code",
   "execution_count": null,
   "metadata": {
    "id": "lbIHxIF3XONH"
   },
   "outputs": [],
   "source": [
    "modelo_final = GradientBoostingClassifier(n_estimators = 305,\n",
    "                                  max_depth = 9,\n",
    "                                  min_samples_split = 2,\n",
    "                                  min_samples_leaf = 3,\n",
    "                                  subsample=0.6,\n",
    "                                  verbose=True,\n",
    "                                  learning_rate=0.15)\n",
    "modelo_final.fit(X = X_train_prep, y = y_train)\n",
    "\n",
    "predicciones = modelo_final.predict(X = X_test_prep)\n",
    "mat_confusion = confusion_matrix(\n",
    "                    y_true    = y_test,\n",
    "                    y_pred    = predicciones\n",
    "                )\n",
    "\n",
    "accuracy = accuracy_score(\n",
    "            y_true    = y_test,\n",
    "            y_pred    = predicciones,\n",
    "            normalize = True\n",
    "           )\n",
    "\n",
    "print(\"Matriz de confusión\")\n",
    "print(\"-------------------\")\n",
    "print(mat_confusion)\n",
    "print(\"\")\n",
    "print(f\"El accuracy de test es: {100 * accuracy} %\")"
   ]
  },
  {
   "cell_type": "code",
   "execution_count": null,
   "metadata": {
    "id": "-IYEzyZqqFOm"
   },
   "outputs": [],
   "source": [
    "y_preds = modelo_final.predict(X_test_prep)\n",
    "f1_score(y_test, y_preds, average='micro')"
   ]
  },
  {
   "cell_type": "code",
   "execution_count": null,
   "metadata": {
    "id": "Xx6ZvE8ms78f"
   },
   "outputs": [],
   "source": [
    "test_values = pd.read_csv('test_values.csv', index_col = \"building_id\")\n",
    "test_values"
   ]
  },
  {
   "cell_type": "code",
   "execution_count": null,
   "metadata": {
    "id": "ljvF19v7tOLa"
   },
   "outputs": [],
   "source": [
    "for row in to_be_categorized:\n",
    "    test_values[row] = test_values[row].astype(\"category\")\n",
    "\n",
    "datatypes = dict(test_values.dtypes)\n",
    "for row in test_values.columns:\n",
    "    if datatypes[row] != \"int64\" and datatypes[row] != \"int32\" and \\\n",
    "       datatypes[row] != \"int16\" and datatypes[row] != \"int8\":\n",
    "        continue\n",
    "    if test_values[row].nlargest(1).item() > 32767 and test_values[row].nlargest(1).item() < 2**31:\n",
    "        test_values[row] = test_values[row].astype(np.int32)\n",
    "    elif test_values[row].nlargest(1).item() > 127:\n",
    "        test_values[row] = test_values[row].astype(np.int16)\n",
    "    else:\n",
    "        test_values[row] = test_values[row].astype(np.int8)\n",
    "\n",
    "cat_cols = test_values.select_dtypes(include=['category', \"bool\"]).columns.to_list()\n",
    "num_cols = test_values.select_dtypes(include=['int16', 'int8', \"float64\"]).columns.to_list()\n",
    "\n",
    "preprocessor_2 = ColumnTransformer([('onehot', OneHotEncoder(handle_unknown='ignore'), cat_cols)],\n",
    "                                  remainder='passthrough')\n",
    "\n",
    "test_values_reduce = preprocessor_2.fit_transform(test_values)\n",
    "\n",
    "en_cat = preprocessor_2.named_transformers_['onehot'].get_feature_names(cat_cols)\n",
    "labels_2 = np.concatenate([num_cols, en_cat])\n",
    "\n",
    "test_values_reduce = pd.DataFrame(test_values_reduce, columns=labels_2)\n",
    "\n",
    "test_values_reduce.info()"
   ]
  },
  {
   "cell_type": "code",
   "execution_count": null,
   "metadata": {
    "id": "iBa8hG9Kvsed"
   },
   "outputs": [],
   "source": [
    "preds = modelo_final.predict(test_values_reduce)\n",
    "submission_format = pd.read_csv(\"submission_format.csv\", index_col = \"building_id\")\n",
    "my_submission = pd.DataFrame(data=preds,\n",
    "                             columns=submission_format.columns,\n",
    "                             index=submission_format.index)"
   ]
  },
  {
   "cell_type": "code",
   "execution_count": null,
   "metadata": {
    "id": "dO68hXsEwGRO"
   },
   "outputs": [],
   "source": [
    "my_submission.to_csv('gradient_boosting_model_1.csv')\n",
    "!head gradient_boosting_model_1.csv"
   ]
  }
 ],
 "metadata": {
  "colab": {
   "name": "Gradient Boosting Classifier.ipynb",
   "provenance": []
  },
  "kernelspec": {
   "display_name": "Python 3",
   "language": "python",
   "name": "python3"
  },
  "language_info": {
   "codemirror_mode": {
    "name": "ipython",
    "version": 3
   },
   "file_extension": ".py",
   "mimetype": "text/x-python",
   "name": "python",
   "nbconvert_exporter": "python",
   "pygments_lexer": "ipython3",
   "version": "3.8.10"
  }
 },
 "nbformat": 4,
 "nbformat_minor": 1
}
