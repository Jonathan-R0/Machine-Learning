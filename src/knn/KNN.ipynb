{
  "nbformat": 4,
  "nbformat_minor": 0,
  "metadata": {
    "colab": {
      "name": "KNN.ipynb",
      "provenance": [],
      "collapsed_sections": []
    },
    "kernelspec": {
      "display_name": "Python 3",
      "name": "python3"
    },
    "language_info": {
      "name": "python"
    }
  },
  "cells": [
    {
      "cell_type": "code",
      "metadata": {
        "id": "oS3PLcFyx2qV",
        "colab": {
          "base_uri": "https://localhost:8080/"
        },
        "outputId": "ad940425-d0f7-4965-d4d9-d0845a68193b"
      },
      "source": [
        "# Tratamiento de datos\n",
        "# ==============================================================================\n",
        "import numpy as np\n",
        "import pandas as pd\n",
        "import statsmodels.api as sm\n",
        "\n",
        "# Gráficos\n",
        "# ==============================================================================\n",
        "import matplotlib.pyplot as plt\n",
        "\n",
        "# Preprocesado y modelado\n",
        "# ==============================================================================\n",
        "from sklearn.metrics import accuracy_score\n",
        "from sklearn.metrics import confusion_matrix\n",
        "from sklearn.compose import ColumnTransformer\n",
        "from sklearn.preprocessing import OneHotEncoder\n",
        "from sklearn.model_selection import cross_val_score\n",
        "from sklearn.model_selection import train_test_split\n",
        "from sklearn.model_selection import RepeatedKFold\n",
        "from sklearn.model_selection import GridSearchCV\n",
        "from sklearn.model_selection import ParameterGrid\n",
        "from sklearn.inspection import permutation_importance\n",
        "from sklearn.preprocessing import StandardScaler\n",
        "import multiprocessing\n",
        "from sklearn.model_selection import RandomizedSearchCV\n",
        "from sklearn.neighbors import KNeighborsClassifier\n",
        "from sklearn.metrics import f1_score\n",
        "from sklearn.pipeline import Pipeline"
      ],
      "execution_count": 1,
      "outputs": [
        {
          "output_type": "stream",
          "text": [
            "/usr/local/lib/python3.7/dist-packages/statsmodels/tools/_testing.py:19: FutureWarning: pandas.util.testing is deprecated. Use the functions in the public API at pandas.testing instead.\n",
            "  import pandas.util.testing as tm\n"
          ],
          "name": "stderr"
        }
      ]
    },
    {
      "cell_type": "markdown",
      "metadata": {
        "id": "5Z5IC7jH4eQF"
      },
      "source": [
        "# PREPARO CSV\n"
      ]
    },
    {
      "cell_type": "code",
      "metadata": {
        "id": "Ycop49sR0N19",
        "colab": {
          "base_uri": "https://localhost:8080/",
          "height": 204
        },
        "outputId": "685ccca6-9439-47f4-c272-9b01993b218e"
      },
      "source": [
        "labels=pd.read_csv(\"train_labels.csv\")\n",
        "labels.head()"
      ],
      "execution_count": 2,
      "outputs": [
        {
          "output_type": "execute_result",
          "data": {
            "text/html": [
              "<div>\n",
              "<style scoped>\n",
              "    .dataframe tbody tr th:only-of-type {\n",
              "        vertical-align: middle;\n",
              "    }\n",
              "\n",
              "    .dataframe tbody tr th {\n",
              "        vertical-align: top;\n",
              "    }\n",
              "\n",
              "    .dataframe thead th {\n",
              "        text-align: right;\n",
              "    }\n",
              "</style>\n",
              "<table border=\"1\" class=\"dataframe\">\n",
              "  <thead>\n",
              "    <tr style=\"text-align: right;\">\n",
              "      <th></th>\n",
              "      <th>building_id</th>\n",
              "      <th>damage_grade</th>\n",
              "    </tr>\n",
              "  </thead>\n",
              "  <tbody>\n",
              "    <tr>\n",
              "      <th>0</th>\n",
              "      <td>802906</td>\n",
              "      <td>3</td>\n",
              "    </tr>\n",
              "    <tr>\n",
              "      <th>1</th>\n",
              "      <td>28830</td>\n",
              "      <td>2</td>\n",
              "    </tr>\n",
              "    <tr>\n",
              "      <th>2</th>\n",
              "      <td>94947</td>\n",
              "      <td>3</td>\n",
              "    </tr>\n",
              "    <tr>\n",
              "      <th>3</th>\n",
              "      <td>590882</td>\n",
              "      <td>2</td>\n",
              "    </tr>\n",
              "    <tr>\n",
              "      <th>4</th>\n",
              "      <td>201944</td>\n",
              "      <td>3</td>\n",
              "    </tr>\n",
              "  </tbody>\n",
              "</table>\n",
              "</div>"
            ],
            "text/plain": [
              "   building_id  damage_grade\n",
              "0       802906             3\n",
              "1        28830             2\n",
              "2        94947             3\n",
              "3       590882             2\n",
              "4       201944             3"
            ]
          },
          "metadata": {
            "tags": []
          },
          "execution_count": 2
        }
      ]
    },
    {
      "cell_type": "code",
      "metadata": {
        "id": "lvRAfRJx24Pv",
        "colab": {
          "base_uri": "https://localhost:8080/",
          "height": 224
        },
        "outputId": "4b756937-f2da-4ccc-915b-bda5d526b155"
      },
      "source": [
        "values=pd.read_csv(\"train_values.csv\")\n",
        "values.head()"
      ],
      "execution_count": 3,
      "outputs": [
        {
          "output_type": "execute_result",
          "data": {
            "text/html": [
              "<div>\n",
              "<style scoped>\n",
              "    .dataframe tbody tr th:only-of-type {\n",
              "        vertical-align: middle;\n",
              "    }\n",
              "\n",
              "    .dataframe tbody tr th {\n",
              "        vertical-align: top;\n",
              "    }\n",
              "\n",
              "    .dataframe thead th {\n",
              "        text-align: right;\n",
              "    }\n",
              "</style>\n",
              "<table border=\"1\" class=\"dataframe\">\n",
              "  <thead>\n",
              "    <tr style=\"text-align: right;\">\n",
              "      <th></th>\n",
              "      <th>building_id</th>\n",
              "      <th>geo_level_1_id</th>\n",
              "      <th>geo_level_2_id</th>\n",
              "      <th>geo_level_3_id</th>\n",
              "      <th>count_floors_pre_eq</th>\n",
              "      <th>age</th>\n",
              "      <th>area_percentage</th>\n",
              "      <th>height_percentage</th>\n",
              "      <th>land_surface_condition</th>\n",
              "      <th>foundation_type</th>\n",
              "      <th>roof_type</th>\n",
              "      <th>ground_floor_type</th>\n",
              "      <th>other_floor_type</th>\n",
              "      <th>position</th>\n",
              "      <th>plan_configuration</th>\n",
              "      <th>has_superstructure_adobe_mud</th>\n",
              "      <th>has_superstructure_mud_mortar_stone</th>\n",
              "      <th>has_superstructure_stone_flag</th>\n",
              "      <th>has_superstructure_cement_mortar_stone</th>\n",
              "      <th>has_superstructure_mud_mortar_brick</th>\n",
              "      <th>has_superstructure_cement_mortar_brick</th>\n",
              "      <th>has_superstructure_timber</th>\n",
              "      <th>has_superstructure_bamboo</th>\n",
              "      <th>has_superstructure_rc_non_engineered</th>\n",
              "      <th>has_superstructure_rc_engineered</th>\n",
              "      <th>has_superstructure_other</th>\n",
              "      <th>legal_ownership_status</th>\n",
              "      <th>count_families</th>\n",
              "      <th>has_secondary_use</th>\n",
              "      <th>has_secondary_use_agriculture</th>\n",
              "      <th>has_secondary_use_hotel</th>\n",
              "      <th>has_secondary_use_rental</th>\n",
              "      <th>has_secondary_use_institution</th>\n",
              "      <th>has_secondary_use_school</th>\n",
              "      <th>has_secondary_use_industry</th>\n",
              "      <th>has_secondary_use_health_post</th>\n",
              "      <th>has_secondary_use_gov_office</th>\n",
              "      <th>has_secondary_use_use_police</th>\n",
              "      <th>has_secondary_use_other</th>\n",
              "    </tr>\n",
              "  </thead>\n",
              "  <tbody>\n",
              "    <tr>\n",
              "      <th>0</th>\n",
              "      <td>802906</td>\n",
              "      <td>6</td>\n",
              "      <td>487</td>\n",
              "      <td>12198</td>\n",
              "      <td>2</td>\n",
              "      <td>30</td>\n",
              "      <td>6</td>\n",
              "      <td>5</td>\n",
              "      <td>t</td>\n",
              "      <td>r</td>\n",
              "      <td>n</td>\n",
              "      <td>f</td>\n",
              "      <td>q</td>\n",
              "      <td>t</td>\n",
              "      <td>d</td>\n",
              "      <td>1</td>\n",
              "      <td>1</td>\n",
              "      <td>0</td>\n",
              "      <td>0</td>\n",
              "      <td>0</td>\n",
              "      <td>0</td>\n",
              "      <td>0</td>\n",
              "      <td>0</td>\n",
              "      <td>0</td>\n",
              "      <td>0</td>\n",
              "      <td>0</td>\n",
              "      <td>v</td>\n",
              "      <td>1</td>\n",
              "      <td>0</td>\n",
              "      <td>0</td>\n",
              "      <td>0</td>\n",
              "      <td>0</td>\n",
              "      <td>0</td>\n",
              "      <td>0</td>\n",
              "      <td>0</td>\n",
              "      <td>0</td>\n",
              "      <td>0</td>\n",
              "      <td>0</td>\n",
              "      <td>0</td>\n",
              "    </tr>\n",
              "    <tr>\n",
              "      <th>1</th>\n",
              "      <td>28830</td>\n",
              "      <td>8</td>\n",
              "      <td>900</td>\n",
              "      <td>2812</td>\n",
              "      <td>2</td>\n",
              "      <td>10</td>\n",
              "      <td>8</td>\n",
              "      <td>7</td>\n",
              "      <td>o</td>\n",
              "      <td>r</td>\n",
              "      <td>n</td>\n",
              "      <td>x</td>\n",
              "      <td>q</td>\n",
              "      <td>s</td>\n",
              "      <td>d</td>\n",
              "      <td>0</td>\n",
              "      <td>1</td>\n",
              "      <td>0</td>\n",
              "      <td>0</td>\n",
              "      <td>0</td>\n",
              "      <td>0</td>\n",
              "      <td>0</td>\n",
              "      <td>0</td>\n",
              "      <td>0</td>\n",
              "      <td>0</td>\n",
              "      <td>0</td>\n",
              "      <td>v</td>\n",
              "      <td>1</td>\n",
              "      <td>0</td>\n",
              "      <td>0</td>\n",
              "      <td>0</td>\n",
              "      <td>0</td>\n",
              "      <td>0</td>\n",
              "      <td>0</td>\n",
              "      <td>0</td>\n",
              "      <td>0</td>\n",
              "      <td>0</td>\n",
              "      <td>0</td>\n",
              "      <td>0</td>\n",
              "    </tr>\n",
              "    <tr>\n",
              "      <th>2</th>\n",
              "      <td>94947</td>\n",
              "      <td>21</td>\n",
              "      <td>363</td>\n",
              "      <td>8973</td>\n",
              "      <td>2</td>\n",
              "      <td>10</td>\n",
              "      <td>5</td>\n",
              "      <td>5</td>\n",
              "      <td>t</td>\n",
              "      <td>r</td>\n",
              "      <td>n</td>\n",
              "      <td>f</td>\n",
              "      <td>x</td>\n",
              "      <td>t</td>\n",
              "      <td>d</td>\n",
              "      <td>0</td>\n",
              "      <td>1</td>\n",
              "      <td>0</td>\n",
              "      <td>0</td>\n",
              "      <td>0</td>\n",
              "      <td>0</td>\n",
              "      <td>0</td>\n",
              "      <td>0</td>\n",
              "      <td>0</td>\n",
              "      <td>0</td>\n",
              "      <td>0</td>\n",
              "      <td>v</td>\n",
              "      <td>1</td>\n",
              "      <td>0</td>\n",
              "      <td>0</td>\n",
              "      <td>0</td>\n",
              "      <td>0</td>\n",
              "      <td>0</td>\n",
              "      <td>0</td>\n",
              "      <td>0</td>\n",
              "      <td>0</td>\n",
              "      <td>0</td>\n",
              "      <td>0</td>\n",
              "      <td>0</td>\n",
              "    </tr>\n",
              "    <tr>\n",
              "      <th>3</th>\n",
              "      <td>590882</td>\n",
              "      <td>22</td>\n",
              "      <td>418</td>\n",
              "      <td>10694</td>\n",
              "      <td>2</td>\n",
              "      <td>10</td>\n",
              "      <td>6</td>\n",
              "      <td>5</td>\n",
              "      <td>t</td>\n",
              "      <td>r</td>\n",
              "      <td>n</td>\n",
              "      <td>f</td>\n",
              "      <td>x</td>\n",
              "      <td>s</td>\n",
              "      <td>d</td>\n",
              "      <td>0</td>\n",
              "      <td>1</td>\n",
              "      <td>0</td>\n",
              "      <td>0</td>\n",
              "      <td>0</td>\n",
              "      <td>0</td>\n",
              "      <td>1</td>\n",
              "      <td>1</td>\n",
              "      <td>0</td>\n",
              "      <td>0</td>\n",
              "      <td>0</td>\n",
              "      <td>v</td>\n",
              "      <td>1</td>\n",
              "      <td>0</td>\n",
              "      <td>0</td>\n",
              "      <td>0</td>\n",
              "      <td>0</td>\n",
              "      <td>0</td>\n",
              "      <td>0</td>\n",
              "      <td>0</td>\n",
              "      <td>0</td>\n",
              "      <td>0</td>\n",
              "      <td>0</td>\n",
              "      <td>0</td>\n",
              "    </tr>\n",
              "    <tr>\n",
              "      <th>4</th>\n",
              "      <td>201944</td>\n",
              "      <td>11</td>\n",
              "      <td>131</td>\n",
              "      <td>1488</td>\n",
              "      <td>3</td>\n",
              "      <td>30</td>\n",
              "      <td>8</td>\n",
              "      <td>9</td>\n",
              "      <td>t</td>\n",
              "      <td>r</td>\n",
              "      <td>n</td>\n",
              "      <td>f</td>\n",
              "      <td>x</td>\n",
              "      <td>s</td>\n",
              "      <td>d</td>\n",
              "      <td>1</td>\n",
              "      <td>0</td>\n",
              "      <td>0</td>\n",
              "      <td>0</td>\n",
              "      <td>0</td>\n",
              "      <td>0</td>\n",
              "      <td>0</td>\n",
              "      <td>0</td>\n",
              "      <td>0</td>\n",
              "      <td>0</td>\n",
              "      <td>0</td>\n",
              "      <td>v</td>\n",
              "      <td>1</td>\n",
              "      <td>0</td>\n",
              "      <td>0</td>\n",
              "      <td>0</td>\n",
              "      <td>0</td>\n",
              "      <td>0</td>\n",
              "      <td>0</td>\n",
              "      <td>0</td>\n",
              "      <td>0</td>\n",
              "      <td>0</td>\n",
              "      <td>0</td>\n",
              "      <td>0</td>\n",
              "    </tr>\n",
              "  </tbody>\n",
              "</table>\n",
              "</div>"
            ],
            "text/plain": [
              "   building_id  ...  has_secondary_use_other\n",
              "0       802906  ...                        0\n",
              "1        28830  ...                        0\n",
              "2        94947  ...                        0\n",
              "3       590882  ...                        0\n",
              "4       201944  ...                        0\n",
              "\n",
              "[5 rows x 39 columns]"
            ]
          },
          "metadata": {
            "tags": []
          },
          "execution_count": 3
        }
      ]
    },
    {
      "cell_type": "code",
      "metadata": {
        "id": "qmLkwqs63Fhc",
        "colab": {
          "base_uri": "https://localhost:8080/"
        },
        "outputId": "6df27076-8dc5-47eb-8d07-97cb4735edd7"
      },
      "source": [
        "values.isnull().values.any()"
      ],
      "execution_count": 4,
      "outputs": [
        {
          "output_type": "execute_result",
          "data": {
            "text/plain": [
              "False"
            ]
          },
          "metadata": {
            "tags": []
          },
          "execution_count": 4
        }
      ]
    },
    {
      "cell_type": "code",
      "metadata": {
        "id": "6oEG2A77aVdk"
      },
      "source": [
        "values = values.dropna()"
      ],
      "execution_count": 5,
      "outputs": []
    },
    {
      "cell_type": "code",
      "metadata": {
        "id": "YFkxsAFa3PWR",
        "colab": {
          "base_uri": "https://localhost:8080/"
        },
        "outputId": "cde8e856-b9fa-4520-98bb-f575a8777ee8"
      },
      "source": [
        "labels.isnull().values.any()"
      ],
      "execution_count": 6,
      "outputs": [
        {
          "output_type": "execute_result",
          "data": {
            "text/plain": [
              "False"
            ]
          },
          "metadata": {
            "tags": []
          },
          "execution_count": 6
        }
      ]
    },
    {
      "cell_type": "code",
      "metadata": {
        "id": "WT-SXWgn3Slp",
        "colab": {
          "base_uri": "https://localhost:8080/"
        },
        "outputId": "2da1f6c8-651e-4968-aead-bd44e5c64371"
      },
      "source": [
        "values.info()"
      ],
      "execution_count": 7,
      "outputs": [
        {
          "output_type": "stream",
          "text": [
            "<class 'pandas.core.frame.DataFrame'>\n",
            "Int64Index: 260601 entries, 0 to 260600\n",
            "Data columns (total 39 columns):\n",
            " #   Column                                  Non-Null Count   Dtype \n",
            "---  ------                                  --------------   ----- \n",
            " 0   building_id                             260601 non-null  int64 \n",
            " 1   geo_level_1_id                          260601 non-null  int64 \n",
            " 2   geo_level_2_id                          260601 non-null  int64 \n",
            " 3   geo_level_3_id                          260601 non-null  int64 \n",
            " 4   count_floors_pre_eq                     260601 non-null  int64 \n",
            " 5   age                                     260601 non-null  int64 \n",
            " 6   area_percentage                         260601 non-null  int64 \n",
            " 7   height_percentage                       260601 non-null  int64 \n",
            " 8   land_surface_condition                  260601 non-null  object\n",
            " 9   foundation_type                         260601 non-null  object\n",
            " 10  roof_type                               260601 non-null  object\n",
            " 11  ground_floor_type                       260601 non-null  object\n",
            " 12  other_floor_type                        260601 non-null  object\n",
            " 13  position                                260601 non-null  object\n",
            " 14  plan_configuration                      260601 non-null  object\n",
            " 15  has_superstructure_adobe_mud            260601 non-null  int64 \n",
            " 16  has_superstructure_mud_mortar_stone     260601 non-null  int64 \n",
            " 17  has_superstructure_stone_flag           260601 non-null  int64 \n",
            " 18  has_superstructure_cement_mortar_stone  260601 non-null  int64 \n",
            " 19  has_superstructure_mud_mortar_brick     260601 non-null  int64 \n",
            " 20  has_superstructure_cement_mortar_brick  260601 non-null  int64 \n",
            " 21  has_superstructure_timber               260601 non-null  int64 \n",
            " 22  has_superstructure_bamboo               260601 non-null  int64 \n",
            " 23  has_superstructure_rc_non_engineered    260601 non-null  int64 \n",
            " 24  has_superstructure_rc_engineered        260601 non-null  int64 \n",
            " 25  has_superstructure_other                260601 non-null  int64 \n",
            " 26  legal_ownership_status                  260601 non-null  object\n",
            " 27  count_families                          260601 non-null  int64 \n",
            " 28  has_secondary_use                       260601 non-null  int64 \n",
            " 29  has_secondary_use_agriculture           260601 non-null  int64 \n",
            " 30  has_secondary_use_hotel                 260601 non-null  int64 \n",
            " 31  has_secondary_use_rental                260601 non-null  int64 \n",
            " 32  has_secondary_use_institution           260601 non-null  int64 \n",
            " 33  has_secondary_use_school                260601 non-null  int64 \n",
            " 34  has_secondary_use_industry              260601 non-null  int64 \n",
            " 35  has_secondary_use_health_post           260601 non-null  int64 \n",
            " 36  has_secondary_use_gov_office            260601 non-null  int64 \n",
            " 37  has_secondary_use_use_police            260601 non-null  int64 \n",
            " 38  has_secondary_use_other                 260601 non-null  int64 \n",
            "dtypes: int64(31), object(8)\n",
            "memory usage: 79.5+ MB\n"
          ],
          "name": "stdout"
        }
      ]
    },
    {
      "cell_type": "code",
      "metadata": {
        "id": "2K9gA5gx3_va",
        "colab": {
          "base_uri": "https://localhost:8080/"
        },
        "outputId": "724b000d-c206-4c53-b884-2481feb1632b"
      },
      "source": [
        "to_be_categorized =  [\"land_surface_condition\", \"foundation_type\", \"roof_type\",\\\n",
        "                     \"position\", \"ground_floor_type\", \"other_floor_type\",\\\n",
        "                     \"plan_configuration\", \"legal_ownership_status\"]\n",
        "for row in to_be_categorized:\n",
        "    values[row] = values[row].astype(\"category\")\n",
        "values.info()"
      ],
      "execution_count": 8,
      "outputs": [
        {
          "output_type": "stream",
          "text": [
            "<class 'pandas.core.frame.DataFrame'>\n",
            "Int64Index: 260601 entries, 0 to 260600\n",
            "Data columns (total 39 columns):\n",
            " #   Column                                  Non-Null Count   Dtype   \n",
            "---  ------                                  --------------   -----   \n",
            " 0   building_id                             260601 non-null  int64   \n",
            " 1   geo_level_1_id                          260601 non-null  int64   \n",
            " 2   geo_level_2_id                          260601 non-null  int64   \n",
            " 3   geo_level_3_id                          260601 non-null  int64   \n",
            " 4   count_floors_pre_eq                     260601 non-null  int64   \n",
            " 5   age                                     260601 non-null  int64   \n",
            " 6   area_percentage                         260601 non-null  int64   \n",
            " 7   height_percentage                       260601 non-null  int64   \n",
            " 8   land_surface_condition                  260601 non-null  category\n",
            " 9   foundation_type                         260601 non-null  category\n",
            " 10  roof_type                               260601 non-null  category\n",
            " 11  ground_floor_type                       260601 non-null  category\n",
            " 12  other_floor_type                        260601 non-null  category\n",
            " 13  position                                260601 non-null  category\n",
            " 14  plan_configuration                      260601 non-null  category\n",
            " 15  has_superstructure_adobe_mud            260601 non-null  int64   \n",
            " 16  has_superstructure_mud_mortar_stone     260601 non-null  int64   \n",
            " 17  has_superstructure_stone_flag           260601 non-null  int64   \n",
            " 18  has_superstructure_cement_mortar_stone  260601 non-null  int64   \n",
            " 19  has_superstructure_mud_mortar_brick     260601 non-null  int64   \n",
            " 20  has_superstructure_cement_mortar_brick  260601 non-null  int64   \n",
            " 21  has_superstructure_timber               260601 non-null  int64   \n",
            " 22  has_superstructure_bamboo               260601 non-null  int64   \n",
            " 23  has_superstructure_rc_non_engineered    260601 non-null  int64   \n",
            " 24  has_superstructure_rc_engineered        260601 non-null  int64   \n",
            " 25  has_superstructure_other                260601 non-null  int64   \n",
            " 26  legal_ownership_status                  260601 non-null  category\n",
            " 27  count_families                          260601 non-null  int64   \n",
            " 28  has_secondary_use                       260601 non-null  int64   \n",
            " 29  has_secondary_use_agriculture           260601 non-null  int64   \n",
            " 30  has_secondary_use_hotel                 260601 non-null  int64   \n",
            " 31  has_secondary_use_rental                260601 non-null  int64   \n",
            " 32  has_secondary_use_institution           260601 non-null  int64   \n",
            " 33  has_secondary_use_school                260601 non-null  int64   \n",
            " 34  has_secondary_use_industry              260601 non-null  int64   \n",
            " 35  has_secondary_use_health_post           260601 non-null  int64   \n",
            " 36  has_secondary_use_gov_office            260601 non-null  int64   \n",
            " 37  has_secondary_use_use_police            260601 non-null  int64   \n",
            " 38  has_secondary_use_other                 260601 non-null  int64   \n",
            "dtypes: category(8), int64(31)\n",
            "memory usage: 65.6 MB\n"
          ],
          "name": "stdout"
        }
      ]
    },
    {
      "cell_type": "code",
      "metadata": {
        "id": "AiuCbCfy4Dqw",
        "colab": {
          "base_uri": "https://localhost:8080/"
        },
        "outputId": "418e75c5-af5f-4a24-f11e-6594333f3a0d"
      },
      "source": [
        "datatypes = dict(values.dtypes)\n",
        "for row in values.columns:\n",
        "    if datatypes[row] != \"int64\" and datatypes[row] != \"int32\" and \\\n",
        "       datatypes[row] != \"int16\" and datatypes[row] != \"int8\":\n",
        "        continue\n",
        "    if values[row].nlargest(1).item() > 32767 and values[row].nlargest(1).item() < 2**31:\n",
        "        values[row] = values[row].astype(np.int32)\n",
        "    elif values[row].nlargest(1).item() > 127:\n",
        "        values[row] = values[row].astype(np.int16)\n",
        "    else:\n",
        "        values[row] = values[row].astype(np.int8)\n",
        "values.info()"
      ],
      "execution_count": 9,
      "outputs": [
        {
          "output_type": "stream",
          "text": [
            "<class 'pandas.core.frame.DataFrame'>\n",
            "Int64Index: 260601 entries, 0 to 260600\n",
            "Data columns (total 39 columns):\n",
            " #   Column                                  Non-Null Count   Dtype   \n",
            "---  ------                                  --------------   -----   \n",
            " 0   building_id                             260601 non-null  int32   \n",
            " 1   geo_level_1_id                          260601 non-null  int8    \n",
            " 2   geo_level_2_id                          260601 non-null  int16   \n",
            " 3   geo_level_3_id                          260601 non-null  int16   \n",
            " 4   count_floors_pre_eq                     260601 non-null  int8    \n",
            " 5   age                                     260601 non-null  int16   \n",
            " 6   area_percentage                         260601 non-null  int8    \n",
            " 7   height_percentage                       260601 non-null  int8    \n",
            " 8   land_surface_condition                  260601 non-null  category\n",
            " 9   foundation_type                         260601 non-null  category\n",
            " 10  roof_type                               260601 non-null  category\n",
            " 11  ground_floor_type                       260601 non-null  category\n",
            " 12  other_floor_type                        260601 non-null  category\n",
            " 13  position                                260601 non-null  category\n",
            " 14  plan_configuration                      260601 non-null  category\n",
            " 15  has_superstructure_adobe_mud            260601 non-null  int8    \n",
            " 16  has_superstructure_mud_mortar_stone     260601 non-null  int8    \n",
            " 17  has_superstructure_stone_flag           260601 non-null  int8    \n",
            " 18  has_superstructure_cement_mortar_stone  260601 non-null  int8    \n",
            " 19  has_superstructure_mud_mortar_brick     260601 non-null  int8    \n",
            " 20  has_superstructure_cement_mortar_brick  260601 non-null  int8    \n",
            " 21  has_superstructure_timber               260601 non-null  int8    \n",
            " 22  has_superstructure_bamboo               260601 non-null  int8    \n",
            " 23  has_superstructure_rc_non_engineered    260601 non-null  int8    \n",
            " 24  has_superstructure_rc_engineered        260601 non-null  int8    \n",
            " 25  has_superstructure_other                260601 non-null  int8    \n",
            " 26  legal_ownership_status                  260601 non-null  category\n",
            " 27  count_families                          260601 non-null  int8    \n",
            " 28  has_secondary_use                       260601 non-null  int8    \n",
            " 29  has_secondary_use_agriculture           260601 non-null  int8    \n",
            " 30  has_secondary_use_hotel                 260601 non-null  int8    \n",
            " 31  has_secondary_use_rental                260601 non-null  int8    \n",
            " 32  has_secondary_use_institution           260601 non-null  int8    \n",
            " 33  has_secondary_use_school                260601 non-null  int8    \n",
            " 34  has_secondary_use_industry              260601 non-null  int8    \n",
            " 35  has_secondary_use_health_post           260601 non-null  int8    \n",
            " 36  has_secondary_use_gov_office            260601 non-null  int8    \n",
            " 37  has_secondary_use_use_police            260601 non-null  int8    \n",
            " 38  has_secondary_use_other                 260601 non-null  int8    \n",
            "dtypes: category(8), int16(3), int32(1), int8(27)\n",
            "memory usage: 13.2 MB\n"
          ],
          "name": "stdout"
        }
      ]
    },
    {
      "cell_type": "code",
      "metadata": {
        "id": "Q5n6W6gL4H48",
        "colab": {
          "base_uri": "https://localhost:8080/"
        },
        "outputId": "624229be-e342-4d8a-ba5a-c725bad25dba"
      },
      "source": [
        "labels.info()"
      ],
      "execution_count": 10,
      "outputs": [
        {
          "output_type": "stream",
          "text": [
            "<class 'pandas.core.frame.DataFrame'>\n",
            "RangeIndex: 260601 entries, 0 to 260600\n",
            "Data columns (total 2 columns):\n",
            " #   Column        Non-Null Count   Dtype\n",
            "---  ------        --------------   -----\n",
            " 0   building_id   260601 non-null  int64\n",
            " 1   damage_grade  260601 non-null  int64\n",
            "dtypes: int64(2)\n",
            "memory usage: 4.0 MB\n"
          ],
          "name": "stdout"
        }
      ]
    },
    {
      "cell_type": "code",
      "metadata": {
        "id": "4GclKble4QMz",
        "colab": {
          "base_uri": "https://localhost:8080/"
        },
        "outputId": "aad9f7ac-8a06-45e1-d0a8-f183d16d2b76"
      },
      "source": [
        "labels[\"building_id\"] = labels[\"building_id\"].astype(np.int32)\n",
        "labels[\"damage_grade\"] = labels[\"damage_grade\"].astype(np.int8)\n",
        "labels.info()"
      ],
      "execution_count": 11,
      "outputs": [
        {
          "output_type": "stream",
          "text": [
            "<class 'pandas.core.frame.DataFrame'>\n",
            "RangeIndex: 260601 entries, 0 to 260600\n",
            "Data columns (total 2 columns):\n",
            " #   Column        Non-Null Count   Dtype\n",
            "---  ------        --------------   -----\n",
            " 0   building_id   260601 non-null  int32\n",
            " 1   damage_grade  260601 non-null  int8 \n",
            "dtypes: int32(1), int8(1)\n",
            "memory usage: 1.2 MB\n"
          ],
          "name": "stdout"
        }
      ]
    },
    {
      "cell_type": "code",
      "metadata": {
        "id": "DPJa5KvIm9lb"
      },
      "source": [
        "important_values = values\\\n",
        "                .merge(labels, on=\"building_id\")\n",
        "important_values.drop(columns=[\"building_id\"], inplace = True)"
      ],
      "execution_count": 12,
      "outputs": []
    },
    {
      "cell_type": "code",
      "metadata": {
        "id": "DEmFjcDa8DZL",
        "colab": {
          "base_uri": "https://localhost:8080/"
        },
        "outputId": "51f5217a-8c2f-4c5e-da66-66732ecfb390"
      },
      "source": [
        "important_values.info()"
      ],
      "execution_count": 13,
      "outputs": [
        {
          "output_type": "stream",
          "text": [
            "<class 'pandas.core.frame.DataFrame'>\n",
            "Int64Index: 260601 entries, 0 to 260600\n",
            "Data columns (total 39 columns):\n",
            " #   Column                                  Non-Null Count   Dtype   \n",
            "---  ------                                  --------------   -----   \n",
            " 0   geo_level_1_id                          260601 non-null  int8    \n",
            " 1   geo_level_2_id                          260601 non-null  int16   \n",
            " 2   geo_level_3_id                          260601 non-null  int16   \n",
            " 3   count_floors_pre_eq                     260601 non-null  int8    \n",
            " 4   age                                     260601 non-null  int16   \n",
            " 5   area_percentage                         260601 non-null  int8    \n",
            " 6   height_percentage                       260601 non-null  int8    \n",
            " 7   land_surface_condition                  260601 non-null  category\n",
            " 8   foundation_type                         260601 non-null  category\n",
            " 9   roof_type                               260601 non-null  category\n",
            " 10  ground_floor_type                       260601 non-null  category\n",
            " 11  other_floor_type                        260601 non-null  category\n",
            " 12  position                                260601 non-null  category\n",
            " 13  plan_configuration                      260601 non-null  category\n",
            " 14  has_superstructure_adobe_mud            260601 non-null  int8    \n",
            " 15  has_superstructure_mud_mortar_stone     260601 non-null  int8    \n",
            " 16  has_superstructure_stone_flag           260601 non-null  int8    \n",
            " 17  has_superstructure_cement_mortar_stone  260601 non-null  int8    \n",
            " 18  has_superstructure_mud_mortar_brick     260601 non-null  int8    \n",
            " 19  has_superstructure_cement_mortar_brick  260601 non-null  int8    \n",
            " 20  has_superstructure_timber               260601 non-null  int8    \n",
            " 21  has_superstructure_bamboo               260601 non-null  int8    \n",
            " 22  has_superstructure_rc_non_engineered    260601 non-null  int8    \n",
            " 23  has_superstructure_rc_engineered        260601 non-null  int8    \n",
            " 24  has_superstructure_other                260601 non-null  int8    \n",
            " 25  legal_ownership_status                  260601 non-null  category\n",
            " 26  count_families                          260601 non-null  int8    \n",
            " 27  has_secondary_use                       260601 non-null  int8    \n",
            " 28  has_secondary_use_agriculture           260601 non-null  int8    \n",
            " 29  has_secondary_use_hotel                 260601 non-null  int8    \n",
            " 30  has_secondary_use_rental                260601 non-null  int8    \n",
            " 31  has_secondary_use_institution           260601 non-null  int8    \n",
            " 32  has_secondary_use_school                260601 non-null  int8    \n",
            " 33  has_secondary_use_industry              260601 non-null  int8    \n",
            " 34  has_secondary_use_health_post           260601 non-null  int8    \n",
            " 35  has_secondary_use_gov_office            260601 non-null  int8    \n",
            " 36  has_secondary_use_use_police            260601 non-null  int8    \n",
            " 37  has_secondary_use_other                 260601 non-null  int8    \n",
            " 38  damage_grade                            260601 non-null  int8    \n",
            "dtypes: category(8), int16(3), int8(28)\n",
            "memory usage: 12.4 MB\n"
          ],
          "name": "stdout"
        }
      ]
    },
    {
      "cell_type": "code",
      "metadata": {
        "colab": {
          "base_uri": "https://localhost:8080/",
          "height": 154
        },
        "id": "IK81aWD-7fZp",
        "outputId": "7015c740-7223-41e3-dac0-b867312c0f8a"
      },
      "source": [
        "X_train, X_test, y_train, y_test = train_test_split(important_values.drop(columns = 'damage_grade'),\n",
        "                                        important_values['damage_grade'], test_size = 0.2, random_state = 123)\n",
        "\n",
        "\n",
        "cat_cols = X_train.select_dtypes(include=['category', \"bool\"]).columns.to_list()\n",
        "numeric_cols = X_train.select_dtypes(include=['int16', 'int8', \"float64\"]).columns.to_list()\n",
        "\n",
        "preprocessor = ColumnTransformer([('onehot', OneHotEncoder(handle_unknown='ignore'), cat_cols)],\n",
        "                                  remainder='passthrough')\n",
        "\n",
        "X_train = preprocessor.fit_transform(X_train)\n",
        "X_test  = preprocessor.transform(X_test)\n",
        "\n",
        "\"\"\"\n",
        "param_grid = {'n_neighbors'  : [12,13,14,15],\n",
        "              \"weights\" : [\"distance\"],\n",
        "              \"algorithm\" : [\"ball_tree\",\"auto\", \"kd_tree\", \"brute\"],\n",
        "              \"metric\" : [\"euclidean\", \"manhattan\", \"minkowski\"]\n",
        "             }\n",
        "\n",
        "grid = GridSearchCV(\n",
        "        estimator  = KNeighborsClassifier(),\n",
        "        param_grid = param_grid,\n",
        "        scoring    = 'accuracy',\n",
        "        n_jobs     = -1,\n",
        "        cv         = RepeatedKFold(n_splits=2, n_repeats=1, random_state=123), \n",
        "        refit      = True,\n",
        "        verbose    = 1,\n",
        "        return_train_score = True\n",
        "       )\n",
        "\n",
        "grid.fit(X = X_train, y = y_train)\n",
        "\n",
        "resultados = pd.DataFrame(grid.cv_results_)\n",
        "resultados.filter(regex = '(param*|mean_t|std_t)') \\\n",
        "    .drop(columns = 'params') \\\n",
        "    .sort_values('mean_test_score', ascending = False) \\\n",
        "    .head(4)\n",
        "\n",
        "modelo_final = grid.best_estimator_ \"\"\""
      ],
      "execution_count": 14,
      "outputs": [
        {
          "output_type": "execute_result",
          "data": {
            "application/vnd.google.colaboratory.intrinsic+json": {
              "type": "string"
            },
            "text/plain": [
              "'\\nparam_grid = {\\'n_neighbors\\'  : [12,13,14,15],\\n              \"weights\" : [\"distance\"],\\n              \"algorithm\" : [\"ball_tree\",\"auto\", \"kd_tree\", \"brute\"],\\n              \"metric\" : [\"euclidean\", \"manhattan\", \"minkowski\"]\\n             }\\n\\ngrid = GridSearchCV(\\n        estimator  = KNeighborsClassifier(),\\n        param_grid = param_grid,\\n        scoring    = \\'accuracy\\',\\n        n_jobs     = -1,\\n        cv         = RepeatedKFold(n_splits=2, n_repeats=1, random_state=123), \\n        refit      = True,\\n        verbose    = 1,\\n        return_train_score = True\\n       )\\n\\ngrid.fit(X = X_train, y = y_train)\\n\\nresultados = pd.DataFrame(grid.cv_results_)\\nresultados.filter(regex = \\'(param*|mean_t|std_t)\\')     .drop(columns = \\'params\\')     .sort_values(\\'mean_test_score\\', ascending = False)     .head(4)\\n\\nmodelo_final = grid.best_estimator_ '"
            ]
          },
          "metadata": {
            "tags": []
          },
          "execution_count": 14
        }
      ]
    },
    {
      "cell_type": "code",
      "metadata": {
        "id": "CIzewnimXJgM",
        "colab": {
          "base_uri": "https://localhost:8080/",
          "height": 86
        },
        "outputId": "64636764-c2e0-4f8d-dbfe-dfe3a20936fe"
      },
      "source": [
        "\"\"\"# Mejores hiperparámetros por validación cruzada\n",
        "# ==============================================================================\n",
        "print(\"----------------------------------------\")\n",
        "print(\"Mejores hiperparámetros encontrados (cv)\")\n",
        "print(\"----------------------------------------\")\n",
        "print(grid.best_params_, \":\", grid.best_score_, grid.scoring)\"\"\""
      ],
      "execution_count": 15,
      "outputs": [
        {
          "output_type": "execute_result",
          "data": {
            "application/vnd.google.colaboratory.intrinsic+json": {
              "type": "string"
            },
            "text/plain": [
              "'# Mejores hiperparámetros por validación cruzada\\n# ==============================================================================\\nprint(\"----------------------------------------\")\\nprint(\"Mejores hiperparámetros encontrados (cv)\")\\nprint(\"----------------------------------------\")\\nprint(grid.best_params_, \":\", grid.best_score_, grid.scoring)'"
            ]
          },
          "metadata": {
            "tags": []
          },
          "execution_count": 15
        }
      ]
    },
    {
      "cell_type": "code",
      "metadata": {
        "id": "-IYEzyZqqFOm",
        "colab": {
          "base_uri": "https://localhost:8080/",
          "height": 52
        },
        "outputId": "68769015-86e8-452b-fc52-4c3dce47e27b"
      },
      "source": [
        "\"\"\"# Error de test del modelo final\n",
        "# ==============================================================================\n",
        "predicciones = modelo_final.predict(X = X_test)\n",
        "f1_score(y_test, predicciones, average='micro')\"\"\""
      ],
      "execution_count": 16,
      "outputs": [
        {
          "output_type": "execute_result",
          "data": {
            "application/vnd.google.colaboratory.intrinsic+json": {
              "type": "string"
            },
            "text/plain": [
              "\"# Error de test del modelo final\\n# ==============================================================================\\npredicciones = modelo_final.predict(X = X_test)\\nf1_score(y_test, predicciones, average='micro')\""
            ]
          },
          "metadata": {
            "tags": []
          },
          "execution_count": 16
        }
      ]
    },
    {
      "cell_type": "code",
      "metadata": {
        "id": "nfKb1XYe7M1_",
        "colab": {
          "base_uri": "https://localhost:8080/"
        },
        "outputId": "2553e034-641b-4dc0-a888-b8f5b9123f2d"
      },
      "source": [
        "knn = KNeighborsClassifier(algorithm = 'ball_tree',\n",
        "                           n_neighbors = 14,\n",
        "                           weights = 'distance',\n",
        "                           metric = \"manhattan\")\n",
        "knn.fit(X_train, y_train)\n",
        "predicciones = knn.predict(X = X_test)\n",
        "f1_score(y_test, predicciones, average='micro')"
      ],
      "execution_count": 17,
      "outputs": [
        {
          "output_type": "execute_result",
          "data": {
            "text/plain": [
              "0.7195564167993707"
            ]
          },
          "metadata": {
            "tags": []
          },
          "execution_count": 17
        }
      ]
    },
    {
      "cell_type": "code",
      "metadata": {
        "id": "gSwzNpLUaar8"
      },
      "source": [
        "import pickle\n",
        "nombre = 'knn_pickle.pkl'\n",
        "pickle.dump(knn, open(nombre,'wb'))"
      ],
      "execution_count": 18,
      "outputs": []
    }
  ]
}