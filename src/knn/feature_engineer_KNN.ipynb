{
  "nbformat": 4,
  "nbformat_minor": 0,
  "metadata": {
    "colab": {
      "name": "feature engineer KNN.ipynb",
      "provenance": [],
      "collapsed_sections": []
    },
    "kernelspec": {
      "name": "python3",
      "display_name": "Python 3"
    },
    "language_info": {
      "name": "python"
    }
  },
  "cells": [
    {
      "cell_type": "code",
      "metadata": {
        "id": "oS3PLcFyx2qV",
        "colab": {
          "base_uri": "https://localhost:8080/"
        },
        "outputId": "5ec40e62-bbb8-4c49-e99f-e57a4c5d98eb"
      },
      "source": [
        "# Tratamiento de datos\n",
        "# ==============================================================================\n",
        "import numpy as np\n",
        "import pandas as pd\n",
        "import statsmodels.api as sm\n",
        "\n",
        "# Gráficos\n",
        "# ==============================================================================\n",
        "import matplotlib.pyplot as plt\n",
        "\n",
        "# Preprocesado y modelado\n",
        "# ==============================================================================\n",
        "from sklearn.metrics import accuracy_score\n",
        "from sklearn.metrics import confusion_matrix\n",
        "from sklearn.compose import ColumnTransformer\n",
        "from sklearn.preprocessing import OneHotEncoder\n",
        "from sklearn.model_selection import cross_val_score\n",
        "from sklearn.model_selection import train_test_split\n",
        "from sklearn.model_selection import RepeatedKFold\n",
        "from sklearn.model_selection import GridSearchCV\n",
        "from sklearn.model_selection import ParameterGrid\n",
        "from sklearn.inspection import permutation_importance\n",
        "from sklearn.preprocessing import StandardScaler\n",
        "import multiprocessing\n",
        "from sklearn.model_selection import RandomizedSearchCV\n",
        "from sklearn.neighbors import KNeighborsClassifier\n",
        "from sklearn.metrics import f1_score\n",
        "from sklearn.pipeline import Pipeline"
      ],
      "execution_count": null,
      "outputs": [
        {
          "output_type": "stream",
          "text": [
            "/usr/local/lib/python3.7/dist-packages/statsmodels/tools/_testing.py:19: FutureWarning: pandas.util.testing is deprecated. Use the functions in the public API at pandas.testing instead.\n",
            "  import pandas.util.testing as tm\n"
          ],
          "name": "stderr"
        }
      ]
    },
    {
      "cell_type": "markdown",
      "metadata": {
        "id": "5Z5IC7jH4eQF"
      },
      "source": [
        "# PREPARO CSV\n"
      ]
    },
    {
      "cell_type": "code",
      "metadata": {
        "colab": {
          "base_uri": "https://localhost:8080/",
          "height": 204
        },
        "id": "Ycop49sR0N19",
        "outputId": "d4e08317-246e-4ca9-b343-7ba7e7de7892"
      },
      "source": [
        "labels=pd.read_csv(\"train_labels.csv\")\n",
        "labels.head()"
      ],
      "execution_count": null,
      "outputs": [
        {
          "output_type": "execute_result",
          "data": {
            "text/html": [
              "<div>\n",
              "<style scoped>\n",
              "    .dataframe tbody tr th:only-of-type {\n",
              "        vertical-align: middle;\n",
              "    }\n",
              "\n",
              "    .dataframe tbody tr th {\n",
              "        vertical-align: top;\n",
              "    }\n",
              "\n",
              "    .dataframe thead th {\n",
              "        text-align: right;\n",
              "    }\n",
              "</style>\n",
              "<table border=\"1\" class=\"dataframe\">\n",
              "  <thead>\n",
              "    <tr style=\"text-align: right;\">\n",
              "      <th></th>\n",
              "      <th>building_id</th>\n",
              "      <th>damage_grade</th>\n",
              "    </tr>\n",
              "  </thead>\n",
              "  <tbody>\n",
              "    <tr>\n",
              "      <th>0</th>\n",
              "      <td>802906</td>\n",
              "      <td>3</td>\n",
              "    </tr>\n",
              "    <tr>\n",
              "      <th>1</th>\n",
              "      <td>28830</td>\n",
              "      <td>2</td>\n",
              "    </tr>\n",
              "    <tr>\n",
              "      <th>2</th>\n",
              "      <td>94947</td>\n",
              "      <td>3</td>\n",
              "    </tr>\n",
              "    <tr>\n",
              "      <th>3</th>\n",
              "      <td>590882</td>\n",
              "      <td>2</td>\n",
              "    </tr>\n",
              "    <tr>\n",
              "      <th>4</th>\n",
              "      <td>201944</td>\n",
              "      <td>3</td>\n",
              "    </tr>\n",
              "  </tbody>\n",
              "</table>\n",
              "</div>"
            ],
            "text/plain": [
              "   building_id  damage_grade\n",
              "0       802906             3\n",
              "1        28830             2\n",
              "2        94947             3\n",
              "3       590882             2\n",
              "4       201944             3"
            ]
          },
          "metadata": {
            "tags": []
          },
          "execution_count": 2
        }
      ]
    },
    {
      "cell_type": "code",
      "metadata": {
        "colab": {
          "base_uri": "https://localhost:8080/",
          "height": 224
        },
        "id": "lvRAfRJx24Pv",
        "outputId": "54a4bc75-3021-48fb-ff9d-b7b1c0c39c56"
      },
      "source": [
        "values=pd.read_csv(\"train_values.csv\")\n",
        "values.head()"
      ],
      "execution_count": null,
      "outputs": [
        {
          "output_type": "execute_result",
          "data": {
            "text/html": [
              "<div>\n",
              "<style scoped>\n",
              "    .dataframe tbody tr th:only-of-type {\n",
              "        vertical-align: middle;\n",
              "    }\n",
              "\n",
              "    .dataframe tbody tr th {\n",
              "        vertical-align: top;\n",
              "    }\n",
              "\n",
              "    .dataframe thead th {\n",
              "        text-align: right;\n",
              "    }\n",
              "</style>\n",
              "<table border=\"1\" class=\"dataframe\">\n",
              "  <thead>\n",
              "    <tr style=\"text-align: right;\">\n",
              "      <th></th>\n",
              "      <th>building_id</th>\n",
              "      <th>geo_level_1_id</th>\n",
              "      <th>geo_level_2_id</th>\n",
              "      <th>geo_level_3_id</th>\n",
              "      <th>count_floors_pre_eq</th>\n",
              "      <th>age</th>\n",
              "      <th>area_percentage</th>\n",
              "      <th>height_percentage</th>\n",
              "      <th>land_surface_condition</th>\n",
              "      <th>foundation_type</th>\n",
              "      <th>roof_type</th>\n",
              "      <th>ground_floor_type</th>\n",
              "      <th>other_floor_type</th>\n",
              "      <th>position</th>\n",
              "      <th>plan_configuration</th>\n",
              "      <th>has_superstructure_adobe_mud</th>\n",
              "      <th>has_superstructure_mud_mortar_stone</th>\n",
              "      <th>has_superstructure_stone_flag</th>\n",
              "      <th>has_superstructure_cement_mortar_stone</th>\n",
              "      <th>has_superstructure_mud_mortar_brick</th>\n",
              "      <th>has_superstructure_cement_mortar_brick</th>\n",
              "      <th>has_superstructure_timber</th>\n",
              "      <th>has_superstructure_bamboo</th>\n",
              "      <th>has_superstructure_rc_non_engineered</th>\n",
              "      <th>has_superstructure_rc_engineered</th>\n",
              "      <th>has_superstructure_other</th>\n",
              "      <th>legal_ownership_status</th>\n",
              "      <th>count_families</th>\n",
              "      <th>has_secondary_use</th>\n",
              "      <th>has_secondary_use_agriculture</th>\n",
              "      <th>has_secondary_use_hotel</th>\n",
              "      <th>has_secondary_use_rental</th>\n",
              "      <th>has_secondary_use_institution</th>\n",
              "      <th>has_secondary_use_school</th>\n",
              "      <th>has_secondary_use_industry</th>\n",
              "      <th>has_secondary_use_health_post</th>\n",
              "      <th>has_secondary_use_gov_office</th>\n",
              "      <th>has_secondary_use_use_police</th>\n",
              "      <th>has_secondary_use_other</th>\n",
              "    </tr>\n",
              "  </thead>\n",
              "  <tbody>\n",
              "    <tr>\n",
              "      <th>0</th>\n",
              "      <td>802906</td>\n",
              "      <td>6</td>\n",
              "      <td>487</td>\n",
              "      <td>12198</td>\n",
              "      <td>2</td>\n",
              "      <td>30</td>\n",
              "      <td>6</td>\n",
              "      <td>5</td>\n",
              "      <td>t</td>\n",
              "      <td>r</td>\n",
              "      <td>n</td>\n",
              "      <td>f</td>\n",
              "      <td>q</td>\n",
              "      <td>t</td>\n",
              "      <td>d</td>\n",
              "      <td>1</td>\n",
              "      <td>1</td>\n",
              "      <td>0</td>\n",
              "      <td>0</td>\n",
              "      <td>0</td>\n",
              "      <td>0</td>\n",
              "      <td>0</td>\n",
              "      <td>0</td>\n",
              "      <td>0</td>\n",
              "      <td>0</td>\n",
              "      <td>0</td>\n",
              "      <td>v</td>\n",
              "      <td>1</td>\n",
              "      <td>0</td>\n",
              "      <td>0</td>\n",
              "      <td>0</td>\n",
              "      <td>0</td>\n",
              "      <td>0</td>\n",
              "      <td>0</td>\n",
              "      <td>0</td>\n",
              "      <td>0</td>\n",
              "      <td>0</td>\n",
              "      <td>0</td>\n",
              "      <td>0</td>\n",
              "    </tr>\n",
              "    <tr>\n",
              "      <th>1</th>\n",
              "      <td>28830</td>\n",
              "      <td>8</td>\n",
              "      <td>900</td>\n",
              "      <td>2812</td>\n",
              "      <td>2</td>\n",
              "      <td>10</td>\n",
              "      <td>8</td>\n",
              "      <td>7</td>\n",
              "      <td>o</td>\n",
              "      <td>r</td>\n",
              "      <td>n</td>\n",
              "      <td>x</td>\n",
              "      <td>q</td>\n",
              "      <td>s</td>\n",
              "      <td>d</td>\n",
              "      <td>0</td>\n",
              "      <td>1</td>\n",
              "      <td>0</td>\n",
              "      <td>0</td>\n",
              "      <td>0</td>\n",
              "      <td>0</td>\n",
              "      <td>0</td>\n",
              "      <td>0</td>\n",
              "      <td>0</td>\n",
              "      <td>0</td>\n",
              "      <td>0</td>\n",
              "      <td>v</td>\n",
              "      <td>1</td>\n",
              "      <td>0</td>\n",
              "      <td>0</td>\n",
              "      <td>0</td>\n",
              "      <td>0</td>\n",
              "      <td>0</td>\n",
              "      <td>0</td>\n",
              "      <td>0</td>\n",
              "      <td>0</td>\n",
              "      <td>0</td>\n",
              "      <td>0</td>\n",
              "      <td>0</td>\n",
              "    </tr>\n",
              "    <tr>\n",
              "      <th>2</th>\n",
              "      <td>94947</td>\n",
              "      <td>21</td>\n",
              "      <td>363</td>\n",
              "      <td>8973</td>\n",
              "      <td>2</td>\n",
              "      <td>10</td>\n",
              "      <td>5</td>\n",
              "      <td>5</td>\n",
              "      <td>t</td>\n",
              "      <td>r</td>\n",
              "      <td>n</td>\n",
              "      <td>f</td>\n",
              "      <td>x</td>\n",
              "      <td>t</td>\n",
              "      <td>d</td>\n",
              "      <td>0</td>\n",
              "      <td>1</td>\n",
              "      <td>0</td>\n",
              "      <td>0</td>\n",
              "      <td>0</td>\n",
              "      <td>0</td>\n",
              "      <td>0</td>\n",
              "      <td>0</td>\n",
              "      <td>0</td>\n",
              "      <td>0</td>\n",
              "      <td>0</td>\n",
              "      <td>v</td>\n",
              "      <td>1</td>\n",
              "      <td>0</td>\n",
              "      <td>0</td>\n",
              "      <td>0</td>\n",
              "      <td>0</td>\n",
              "      <td>0</td>\n",
              "      <td>0</td>\n",
              "      <td>0</td>\n",
              "      <td>0</td>\n",
              "      <td>0</td>\n",
              "      <td>0</td>\n",
              "      <td>0</td>\n",
              "    </tr>\n",
              "    <tr>\n",
              "      <th>3</th>\n",
              "      <td>590882</td>\n",
              "      <td>22</td>\n",
              "      <td>418</td>\n",
              "      <td>10694</td>\n",
              "      <td>2</td>\n",
              "      <td>10</td>\n",
              "      <td>6</td>\n",
              "      <td>5</td>\n",
              "      <td>t</td>\n",
              "      <td>r</td>\n",
              "      <td>n</td>\n",
              "      <td>f</td>\n",
              "      <td>x</td>\n",
              "      <td>s</td>\n",
              "      <td>d</td>\n",
              "      <td>0</td>\n",
              "      <td>1</td>\n",
              "      <td>0</td>\n",
              "      <td>0</td>\n",
              "      <td>0</td>\n",
              "      <td>0</td>\n",
              "      <td>1</td>\n",
              "      <td>1</td>\n",
              "      <td>0</td>\n",
              "      <td>0</td>\n",
              "      <td>0</td>\n",
              "      <td>v</td>\n",
              "      <td>1</td>\n",
              "      <td>0</td>\n",
              "      <td>0</td>\n",
              "      <td>0</td>\n",
              "      <td>0</td>\n",
              "      <td>0</td>\n",
              "      <td>0</td>\n",
              "      <td>0</td>\n",
              "      <td>0</td>\n",
              "      <td>0</td>\n",
              "      <td>0</td>\n",
              "      <td>0</td>\n",
              "    </tr>\n",
              "    <tr>\n",
              "      <th>4</th>\n",
              "      <td>201944</td>\n",
              "      <td>11</td>\n",
              "      <td>131</td>\n",
              "      <td>1488</td>\n",
              "      <td>3</td>\n",
              "      <td>30</td>\n",
              "      <td>8</td>\n",
              "      <td>9</td>\n",
              "      <td>t</td>\n",
              "      <td>r</td>\n",
              "      <td>n</td>\n",
              "      <td>f</td>\n",
              "      <td>x</td>\n",
              "      <td>s</td>\n",
              "      <td>d</td>\n",
              "      <td>1</td>\n",
              "      <td>0</td>\n",
              "      <td>0</td>\n",
              "      <td>0</td>\n",
              "      <td>0</td>\n",
              "      <td>0</td>\n",
              "      <td>0</td>\n",
              "      <td>0</td>\n",
              "      <td>0</td>\n",
              "      <td>0</td>\n",
              "      <td>0</td>\n",
              "      <td>v</td>\n",
              "      <td>1</td>\n",
              "      <td>0</td>\n",
              "      <td>0</td>\n",
              "      <td>0</td>\n",
              "      <td>0</td>\n",
              "      <td>0</td>\n",
              "      <td>0</td>\n",
              "      <td>0</td>\n",
              "      <td>0</td>\n",
              "      <td>0</td>\n",
              "      <td>0</td>\n",
              "      <td>0</td>\n",
              "    </tr>\n",
              "  </tbody>\n",
              "</table>\n",
              "</div>"
            ],
            "text/plain": [
              "   building_id  ...  has_secondary_use_other\n",
              "0       802906  ...                        0\n",
              "1        28830  ...                        0\n",
              "2        94947  ...                        0\n",
              "3       590882  ...                        0\n",
              "4       201944  ...                        0\n",
              "\n",
              "[5 rows x 39 columns]"
            ]
          },
          "metadata": {
            "tags": []
          },
          "execution_count": 3
        }
      ]
    },
    {
      "cell_type": "code",
      "metadata": {
        "colab": {
          "base_uri": "https://localhost:8080/"
        },
        "id": "qmLkwqs63Fhc",
        "outputId": "ac37478b-287a-4260-d011-9813a8435c92"
      },
      "source": [
        "values.isnull().values.any()"
      ],
      "execution_count": null,
      "outputs": [
        {
          "output_type": "execute_result",
          "data": {
            "text/plain": [
              "False"
            ]
          },
          "metadata": {
            "tags": []
          },
          "execution_count": 4
        }
      ]
    },
    {
      "cell_type": "code",
      "metadata": {
        "id": "6oEG2A77aVdk"
      },
      "source": [
        "values = values.dropna()"
      ],
      "execution_count": null,
      "outputs": []
    },
    {
      "cell_type": "code",
      "metadata": {
        "colab": {
          "base_uri": "https://localhost:8080/"
        },
        "id": "YFkxsAFa3PWR",
        "outputId": "4f644062-9139-453c-990a-e303b5cfbd11"
      },
      "source": [
        "labels.isnull().values.any()"
      ],
      "execution_count": null,
      "outputs": [
        {
          "output_type": "execute_result",
          "data": {
            "text/plain": [
              "False"
            ]
          },
          "metadata": {
            "tags": []
          },
          "execution_count": 6
        }
      ]
    },
    {
      "cell_type": "code",
      "metadata": {
        "colab": {
          "base_uri": "https://localhost:8080/"
        },
        "id": "WT-SXWgn3Slp",
        "outputId": "492aa30c-c4d2-4dc4-b477-be7c9d7b1ab0"
      },
      "source": [
        "values.info()"
      ],
      "execution_count": null,
      "outputs": [
        {
          "output_type": "stream",
          "text": [
            "<class 'pandas.core.frame.DataFrame'>\n",
            "Int64Index: 260601 entries, 0 to 260600\n",
            "Data columns (total 39 columns):\n",
            " #   Column                                  Non-Null Count   Dtype \n",
            "---  ------                                  --------------   ----- \n",
            " 0   building_id                             260601 non-null  int64 \n",
            " 1   geo_level_1_id                          260601 non-null  int64 \n",
            " 2   geo_level_2_id                          260601 non-null  int64 \n",
            " 3   geo_level_3_id                          260601 non-null  int64 \n",
            " 4   count_floors_pre_eq                     260601 non-null  int64 \n",
            " 5   age                                     260601 non-null  int64 \n",
            " 6   area_percentage                         260601 non-null  int64 \n",
            " 7   height_percentage                       260601 non-null  int64 \n",
            " 8   land_surface_condition                  260601 non-null  object\n",
            " 9   foundation_type                         260601 non-null  object\n",
            " 10  roof_type                               260601 non-null  object\n",
            " 11  ground_floor_type                       260601 non-null  object\n",
            " 12  other_floor_type                        260601 non-null  object\n",
            " 13  position                                260601 non-null  object\n",
            " 14  plan_configuration                      260601 non-null  object\n",
            " 15  has_superstructure_adobe_mud            260601 non-null  int64 \n",
            " 16  has_superstructure_mud_mortar_stone     260601 non-null  int64 \n",
            " 17  has_superstructure_stone_flag           260601 non-null  int64 \n",
            " 18  has_superstructure_cement_mortar_stone  260601 non-null  int64 \n",
            " 19  has_superstructure_mud_mortar_brick     260601 non-null  int64 \n",
            " 20  has_superstructure_cement_mortar_brick  260601 non-null  int64 \n",
            " 21  has_superstructure_timber               260601 non-null  int64 \n",
            " 22  has_superstructure_bamboo               260601 non-null  int64 \n",
            " 23  has_superstructure_rc_non_engineered    260601 non-null  int64 \n",
            " 24  has_superstructure_rc_engineered        260601 non-null  int64 \n",
            " 25  has_superstructure_other                260601 non-null  int64 \n",
            " 26  legal_ownership_status                  260601 non-null  object\n",
            " 27  count_families                          260601 non-null  int64 \n",
            " 28  has_secondary_use                       260601 non-null  int64 \n",
            " 29  has_secondary_use_agriculture           260601 non-null  int64 \n",
            " 30  has_secondary_use_hotel                 260601 non-null  int64 \n",
            " 31  has_secondary_use_rental                260601 non-null  int64 \n",
            " 32  has_secondary_use_institution           260601 non-null  int64 \n",
            " 33  has_secondary_use_school                260601 non-null  int64 \n",
            " 34  has_secondary_use_industry              260601 non-null  int64 \n",
            " 35  has_secondary_use_health_post           260601 non-null  int64 \n",
            " 36  has_secondary_use_gov_office            260601 non-null  int64 \n",
            " 37  has_secondary_use_use_police            260601 non-null  int64 \n",
            " 38  has_secondary_use_other                 260601 non-null  int64 \n",
            "dtypes: int64(31), object(8)\n",
            "memory usage: 79.5+ MB\n"
          ],
          "name": "stdout"
        }
      ]
    },
    {
      "cell_type": "code",
      "metadata": {
        "colab": {
          "base_uri": "https://localhost:8080/"
        },
        "id": "2K9gA5gx3_va",
        "outputId": "7f180dee-d30a-409c-e768-23602d83350c"
      },
      "source": [
        "to_be_categorized =  [\"land_surface_condition\", \"foundation_type\", \"roof_type\",\\\n",
        "                     \"position\", \"ground_floor_type\", \"other_floor_type\",\\\n",
        "                     \"plan_configuration\", \"legal_ownership_status\", \"geo_level_1_id\"]\n",
        "for row in to_be_categorized:\n",
        "    values[row] = values[row].astype(\"category\")\n",
        "values.info()"
      ],
      "execution_count": null,
      "outputs": [
        {
          "output_type": "stream",
          "text": [
            "<class 'pandas.core.frame.DataFrame'>\n",
            "Int64Index: 260601 entries, 0 to 260600\n",
            "Data columns (total 39 columns):\n",
            " #   Column                                  Non-Null Count   Dtype   \n",
            "---  ------                                  --------------   -----   \n",
            " 0   building_id                             260601 non-null  int64   \n",
            " 1   geo_level_1_id                          260601 non-null  category\n",
            " 2   geo_level_2_id                          260601 non-null  int64   \n",
            " 3   geo_level_3_id                          260601 non-null  int64   \n",
            " 4   count_floors_pre_eq                     260601 non-null  int64   \n",
            " 5   age                                     260601 non-null  int64   \n",
            " 6   area_percentage                         260601 non-null  int64   \n",
            " 7   height_percentage                       260601 non-null  int64   \n",
            " 8   land_surface_condition                  260601 non-null  category\n",
            " 9   foundation_type                         260601 non-null  category\n",
            " 10  roof_type                               260601 non-null  category\n",
            " 11  ground_floor_type                       260601 non-null  category\n",
            " 12  other_floor_type                        260601 non-null  category\n",
            " 13  position                                260601 non-null  category\n",
            " 14  plan_configuration                      260601 non-null  category\n",
            " 15  has_superstructure_adobe_mud            260601 non-null  int64   \n",
            " 16  has_superstructure_mud_mortar_stone     260601 non-null  int64   \n",
            " 17  has_superstructure_stone_flag           260601 non-null  int64   \n",
            " 18  has_superstructure_cement_mortar_stone  260601 non-null  int64   \n",
            " 19  has_superstructure_mud_mortar_brick     260601 non-null  int64   \n",
            " 20  has_superstructure_cement_mortar_brick  260601 non-null  int64   \n",
            " 21  has_superstructure_timber               260601 non-null  int64   \n",
            " 22  has_superstructure_bamboo               260601 non-null  int64   \n",
            " 23  has_superstructure_rc_non_engineered    260601 non-null  int64   \n",
            " 24  has_superstructure_rc_engineered        260601 non-null  int64   \n",
            " 25  has_superstructure_other                260601 non-null  int64   \n",
            " 26  legal_ownership_status                  260601 non-null  category\n",
            " 27  count_families                          260601 non-null  int64   \n",
            " 28  has_secondary_use                       260601 non-null  int64   \n",
            " 29  has_secondary_use_agriculture           260601 non-null  int64   \n",
            " 30  has_secondary_use_hotel                 260601 non-null  int64   \n",
            " 31  has_secondary_use_rental                260601 non-null  int64   \n",
            " 32  has_secondary_use_institution           260601 non-null  int64   \n",
            " 33  has_secondary_use_school                260601 non-null  int64   \n",
            " 34  has_secondary_use_industry              260601 non-null  int64   \n",
            " 35  has_secondary_use_health_post           260601 non-null  int64   \n",
            " 36  has_secondary_use_gov_office            260601 non-null  int64   \n",
            " 37  has_secondary_use_use_police            260601 non-null  int64   \n",
            " 38  has_secondary_use_other                 260601 non-null  int64   \n",
            "dtypes: category(9), int64(30)\n",
            "memory usage: 63.9 MB\n"
          ],
          "name": "stdout"
        }
      ]
    },
    {
      "cell_type": "code",
      "metadata": {
        "colab": {
          "base_uri": "https://localhost:8080/"
        },
        "id": "AiuCbCfy4Dqw",
        "outputId": "3cd6f6c3-2d4e-49c8-9fbb-3516dde842c4"
      },
      "source": [
        "datatypes = dict(values.dtypes)\n",
        "for row in values.columns:\n",
        "    if datatypes[row] != \"int64\" and datatypes[row] != \"int32\" and \\\n",
        "       datatypes[row] != \"int16\" and datatypes[row] != \"int8\":\n",
        "        continue\n",
        "    if values[row].nlargest(1).item() > 32767 and values[row].nlargest(1).item() < 2**31:\n",
        "        values[row] = values[row].astype(np.int32)\n",
        "    elif values[row].nlargest(1).item() > 127:\n",
        "        values[row] = values[row].astype(np.int16)\n",
        "    else:\n",
        "        values[row] = values[row].astype(np.int8)\n",
        "values.info()"
      ],
      "execution_count": null,
      "outputs": [
        {
          "output_type": "stream",
          "text": [
            "<class 'pandas.core.frame.DataFrame'>\n",
            "Int64Index: 260601 entries, 0 to 260600\n",
            "Data columns (total 39 columns):\n",
            " #   Column                                  Non-Null Count   Dtype   \n",
            "---  ------                                  --------------   -----   \n",
            " 0   building_id                             260601 non-null  int32   \n",
            " 1   geo_level_1_id                          260601 non-null  category\n",
            " 2   geo_level_2_id                          260601 non-null  int16   \n",
            " 3   geo_level_3_id                          260601 non-null  int16   \n",
            " 4   count_floors_pre_eq                     260601 non-null  int8    \n",
            " 5   age                                     260601 non-null  int16   \n",
            " 6   area_percentage                         260601 non-null  int8    \n",
            " 7   height_percentage                       260601 non-null  int8    \n",
            " 8   land_surface_condition                  260601 non-null  category\n",
            " 9   foundation_type                         260601 non-null  category\n",
            " 10  roof_type                               260601 non-null  category\n",
            " 11  ground_floor_type                       260601 non-null  category\n",
            " 12  other_floor_type                        260601 non-null  category\n",
            " 13  position                                260601 non-null  category\n",
            " 14  plan_configuration                      260601 non-null  category\n",
            " 15  has_superstructure_adobe_mud            260601 non-null  int8    \n",
            " 16  has_superstructure_mud_mortar_stone     260601 non-null  int8    \n",
            " 17  has_superstructure_stone_flag           260601 non-null  int8    \n",
            " 18  has_superstructure_cement_mortar_stone  260601 non-null  int8    \n",
            " 19  has_superstructure_mud_mortar_brick     260601 non-null  int8    \n",
            " 20  has_superstructure_cement_mortar_brick  260601 non-null  int8    \n",
            " 21  has_superstructure_timber               260601 non-null  int8    \n",
            " 22  has_superstructure_bamboo               260601 non-null  int8    \n",
            " 23  has_superstructure_rc_non_engineered    260601 non-null  int8    \n",
            " 24  has_superstructure_rc_engineered        260601 non-null  int8    \n",
            " 25  has_superstructure_other                260601 non-null  int8    \n",
            " 26  legal_ownership_status                  260601 non-null  category\n",
            " 27  count_families                          260601 non-null  int8    \n",
            " 28  has_secondary_use                       260601 non-null  int8    \n",
            " 29  has_secondary_use_agriculture           260601 non-null  int8    \n",
            " 30  has_secondary_use_hotel                 260601 non-null  int8    \n",
            " 31  has_secondary_use_rental                260601 non-null  int8    \n",
            " 32  has_secondary_use_institution           260601 non-null  int8    \n",
            " 33  has_secondary_use_school                260601 non-null  int8    \n",
            " 34  has_secondary_use_industry              260601 non-null  int8    \n",
            " 35  has_secondary_use_health_post           260601 non-null  int8    \n",
            " 36  has_secondary_use_gov_office            260601 non-null  int8    \n",
            " 37  has_secondary_use_use_police            260601 non-null  int8    \n",
            " 38  has_secondary_use_other                 260601 non-null  int8    \n",
            "dtypes: category(9), int16(3), int32(1), int8(26)\n",
            "memory usage: 13.2 MB\n"
          ],
          "name": "stdout"
        }
      ]
    },
    {
      "cell_type": "code",
      "metadata": {
        "colab": {
          "base_uri": "https://localhost:8080/"
        },
        "id": "Q5n6W6gL4H48",
        "outputId": "2600b806-1a0b-466c-a4ce-db8d6eec77c6"
      },
      "source": [
        "labels.info()"
      ],
      "execution_count": null,
      "outputs": [
        {
          "output_type": "stream",
          "text": [
            "<class 'pandas.core.frame.DataFrame'>\n",
            "RangeIndex: 260601 entries, 0 to 260600\n",
            "Data columns (total 2 columns):\n",
            " #   Column        Non-Null Count   Dtype\n",
            "---  ------        --------------   -----\n",
            " 0   building_id   260601 non-null  int64\n",
            " 1   damage_grade  260601 non-null  int64\n",
            "dtypes: int64(2)\n",
            "memory usage: 4.0 MB\n"
          ],
          "name": "stdout"
        }
      ]
    },
    {
      "cell_type": "code",
      "metadata": {
        "colab": {
          "base_uri": "https://localhost:8080/"
        },
        "id": "4GclKble4QMz",
        "outputId": "7879ba2c-850a-4a27-c6ee-8e1eb27a3e40"
      },
      "source": [
        "labels[\"building_id\"] = labels[\"building_id\"].astype(np.int32)\n",
        "labels[\"damage_grade\"] = labels[\"damage_grade\"].astype(np.int8)\n",
        "labels.info()"
      ],
      "execution_count": null,
      "outputs": [
        {
          "output_type": "stream",
          "text": [
            "<class 'pandas.core.frame.DataFrame'>\n",
            "RangeIndex: 260601 entries, 0 to 260600\n",
            "Data columns (total 2 columns):\n",
            " #   Column        Non-Null Count   Dtype\n",
            "---  ------        --------------   -----\n",
            " 0   building_id   260601 non-null  int32\n",
            " 1   damage_grade  260601 non-null  int8 \n",
            "dtypes: int32(1), int8(1)\n",
            "memory usage: 1.2 MB\n"
          ],
          "name": "stdout"
        }
      ]
    },
    {
      "cell_type": "code",
      "metadata": {
        "id": "DPJa5KvIm9lb"
      },
      "source": [
        "important_values = values\\\n",
        "                .merge(labels, on=\"building_id\")\n",
        "important_values.drop(columns=[\"building_id\"], inplace = True)"
      ],
      "execution_count": null,
      "outputs": []
    },
    {
      "cell_type": "code",
      "metadata": {
        "colab": {
          "base_uri": "https://localhost:8080/"
        },
        "id": "DEmFjcDa8DZL",
        "outputId": "1dbebc93-3f53-447e-9bfb-651c25487bc0"
      },
      "source": [
        "important_values.info()"
      ],
      "execution_count": null,
      "outputs": [
        {
          "output_type": "stream",
          "text": [
            "<class 'pandas.core.frame.DataFrame'>\n",
            "Int64Index: 260601 entries, 0 to 260600\n",
            "Data columns (total 39 columns):\n",
            " #   Column                                  Non-Null Count   Dtype   \n",
            "---  ------                                  --------------   -----   \n",
            " 0   geo_level_1_id                          260601 non-null  category\n",
            " 1   geo_level_2_id                          260601 non-null  int16   \n",
            " 2   geo_level_3_id                          260601 non-null  int16   \n",
            " 3   count_floors_pre_eq                     260601 non-null  int8    \n",
            " 4   age                                     260601 non-null  int16   \n",
            " 5   area_percentage                         260601 non-null  int8    \n",
            " 6   height_percentage                       260601 non-null  int8    \n",
            " 7   land_surface_condition                  260601 non-null  category\n",
            " 8   foundation_type                         260601 non-null  category\n",
            " 9   roof_type                               260601 non-null  category\n",
            " 10  ground_floor_type                       260601 non-null  category\n",
            " 11  other_floor_type                        260601 non-null  category\n",
            " 12  position                                260601 non-null  category\n",
            " 13  plan_configuration                      260601 non-null  category\n",
            " 14  has_superstructure_adobe_mud            260601 non-null  int8    \n",
            " 15  has_superstructure_mud_mortar_stone     260601 non-null  int8    \n",
            " 16  has_superstructure_stone_flag           260601 non-null  int8    \n",
            " 17  has_superstructure_cement_mortar_stone  260601 non-null  int8    \n",
            " 18  has_superstructure_mud_mortar_brick     260601 non-null  int8    \n",
            " 19  has_superstructure_cement_mortar_brick  260601 non-null  int8    \n",
            " 20  has_superstructure_timber               260601 non-null  int8    \n",
            " 21  has_superstructure_bamboo               260601 non-null  int8    \n",
            " 22  has_superstructure_rc_non_engineered    260601 non-null  int8    \n",
            " 23  has_superstructure_rc_engineered        260601 non-null  int8    \n",
            " 24  has_superstructure_other                260601 non-null  int8    \n",
            " 25  legal_ownership_status                  260601 non-null  category\n",
            " 26  count_families                          260601 non-null  int8    \n",
            " 27  has_secondary_use                       260601 non-null  int8    \n",
            " 28  has_secondary_use_agriculture           260601 non-null  int8    \n",
            " 29  has_secondary_use_hotel                 260601 non-null  int8    \n",
            " 30  has_secondary_use_rental                260601 non-null  int8    \n",
            " 31  has_secondary_use_institution           260601 non-null  int8    \n",
            " 32  has_secondary_use_school                260601 non-null  int8    \n",
            " 33  has_secondary_use_industry              260601 non-null  int8    \n",
            " 34  has_secondary_use_health_post           260601 non-null  int8    \n",
            " 35  has_secondary_use_gov_office            260601 non-null  int8    \n",
            " 36  has_secondary_use_use_police            260601 non-null  int8    \n",
            " 37  has_secondary_use_other                 260601 non-null  int8    \n",
            " 38  damage_grade                            260601 non-null  int8    \n",
            "dtypes: category(9), int16(3), int8(27)\n",
            "memory usage: 12.4 MB\n"
          ],
          "name": "stdout"
        }
      ]
    },
    {
      "cell_type": "code",
      "metadata": {
        "colab": {
          "base_uri": "https://localhost:8080/"
        },
        "id": "IK81aWD-7fZp",
        "outputId": "d3e44b78-6f89-4911-b6e1-1915123bc0e0"
      },
      "source": [
        "X_train, X_test, y_train, y_test = train_test_split(important_values.drop(columns = 'damage_grade'),\n",
        "                                        important_values['damage_grade'], test_size = 0.2, random_state = 123)\n",
        "\n",
        "\n",
        "def feature_engieniere(df):\n",
        "  df.drop(columns=[\"plan_configuration\",\"legal_ownership_status\",\"has_secondary_use_other\",\\\n",
        "                   \"has_secondary_use_use_police\", \"has_secondary_use\", \"has_secondary_use_hotel\",\\\n",
        "                   \"has_secondary_use_rental\", \"has_secondary_use_institution\", \"has_secondary_use_school\",\\\n",
        "                   \"has_secondary_use_industry\", \"has_secondary_use_health_post\", \"has_secondary_use_agriculture\",\\\n",
        "                   \"has_secondary_use_gov_office\"], inplace = True)\n",
        "  return df\n",
        "\n",
        "X_train = feature_engieniere(X_train)\n",
        "X_test = feature_engieniere(X_test)\n",
        "\n",
        "cat_cols = X_train.select_dtypes(include=['category', \"bool\"]).columns.to_list()\n",
        "numeric_cols = X_train.select_dtypes(include=['int16', 'int8', \"float64\"]).columns.to_list()\n",
        "\n",
        "preprocessor = ColumnTransformer([('onehot', OneHotEncoder(handle_unknown='ignore'), cat_cols)],\n",
        "                                  remainder='passthrough')\n",
        "\n",
        "X_train = preprocessor.fit_transform(X_train)\n",
        "X_test  = preprocessor.transform(X_test)\n",
        "\n",
        "\n",
        "param_grid = {'n_neighbors'  : [12,13,14,15,16],\n",
        "              \"weights\" : [\"distance\"],\n",
        "              \"algorithm\" : [\"ball_tree\",\"auto\", \"kd_tree\", \"brute\"],\n",
        "              \"metric\" : [\"euclidean\", \"manhattan\", \"minkowski\"]\n",
        "             }\n",
        "\n",
        "grid = GridSearchCV(\n",
        "        estimator  = KNeighborsClassifier(),\n",
        "        param_grid = param_grid,\n",
        "        scoring    = 'accuracy',\n",
        "        n_jobs     = -1,\n",
        "        cv         = RepeatedKFold(n_splits=2, n_repeats=1, random_state=123), \n",
        "        refit      = True,\n",
        "        verbose    = 1,\n",
        "        return_train_score = True\n",
        "       )\n",
        "\n",
        "grid.fit(X = X_train, y = y_train)\n",
        "\n",
        "resultados = pd.DataFrame(grid.cv_results_)\n",
        "resultados.filter(regex = '(param*|mean_t|std_t)') \\\n",
        "    .drop(columns = 'params') \\\n",
        "    .sort_values('mean_test_score', ascending = False) \\\n",
        "    .head(4)\n",
        "\n",
        "modelo_final = grid.best_estimator_ "
      ],
      "execution_count": null,
      "outputs": [
        {
          "output_type": "stream",
          "text": [
            "Fitting 2 folds for each of 60 candidates, totalling 120 fits\n"
          ],
          "name": "stdout"
        },
        {
          "output_type": "stream",
          "text": [
            "[Parallel(n_jobs=-1)]: Using backend LokyBackend with 2 concurrent workers.\n",
            "[Parallel(n_jobs=-1)]: Done  46 tasks      | elapsed: 38.4min\n",
            "/usr/local/lib/python3.7/dist-packages/joblib/externals/loky/process_executor.py:691: UserWarning: A worker stopped while some jobs were given to the executor. This can be caused by a too short worker timeout or by a memory leak.\n",
            "  \"timeout or by a memory leak.\", UserWarning\n"
          ],
          "name": "stderr"
        }
      ]
    },
    {
      "cell_type": "code",
      "metadata": {
        "id": "CIzewnimXJgM"
      },
      "source": [
        "# Mejores hiperparámetros por validación cruzada\n",
        "# ==============================================================================\n",
        "print(\"----------------------------------------\")\n",
        "print(\"Mejores hiperparámetros encontrados (cv)\")\n",
        "print(\"----------------------------------------\")\n",
        "print(grid.best_params_, \":\", grid.best_score_, grid.scoring)"
      ],
      "execution_count": null,
      "outputs": []
    },
    {
      "cell_type": "code",
      "metadata": {
        "id": "-IYEzyZqqFOm"
      },
      "source": [
        "# Error de test del modelo final\n",
        "# ==============================================================================\n",
        "predicciones = modelo_final.predict(X = X_test)\n",
        "f1_score(y_test, predicciones, average='micro')"
      ],
      "execution_count": null,
      "outputs": []
    },
    {
      "cell_type": "code",
      "metadata": {
        "id": "nfKb1XYe7M1_"
      },
      "source": [
        "knn = KNeighborsClassifier(algorithm = 'ball_tree',\n",
        "                           n_neighbors = 14,\n",
        "                           weights = 'distance',\n",
        "                           metric = \"manhattan\")\n",
        "knn.fit(X_train, y_train)\n",
        "predicciones = knn.predict(X = X_test)\n",
        "f1_score(y_test, predicciones, average='micro')"
      ],
      "execution_count": null,
      "outputs": []
    },
    {
      "cell_type": "code",
      "metadata": {
        "id": "gSwzNpLUaar8"
      },
      "source": [
        "import pickle\n",
        "nombre = 'knn_pickle.pkl'\n",
        "pickle.dump(knn, open(nombre,'wb'))"
      ],
      "execution_count": null,
      "outputs": []
    }
  ]
}