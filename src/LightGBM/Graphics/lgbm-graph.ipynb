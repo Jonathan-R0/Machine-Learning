{
 "cells": [
  {
   "cell_type": "code",
   "execution_count": 78,
   "id": "d820296c",
   "metadata": {},
   "outputs": [],
   "source": [
    "import numpy as np\n",
    "import pandas as pd"
   ]
  },
  {
   "cell_type": "code",
   "execution_count": 79,
   "id": "e98e3f9d",
   "metadata": {},
   "outputs": [],
   "source": [
    "import matplotlib.pyplot as plt\n",
    "from matplotlib import style\n",
    "import matplotlib.ticker as ticker\n",
    "import seaborn as sns"
   ]
  },
  {
   "cell_type": "code",
   "execution_count": 80,
   "id": "320993d0",
   "metadata": {},
   "outputs": [],
   "source": [
    "from sklearn.datasets import load_boston\n",
    "from sklearn.ensemble import RandomForestClassifier, VotingClassifier, GradientBoostingClassifier\n",
    "from sklearn.metrics import accuracy_score\n",
    "from sklearn.metrics import confusion_matrix\n",
    "from sklearn.metrics import plot_confusion_matrix\n",
    "from sklearn.metrics import classification_report\n",
    "from sklearn.metrics import f1_score, make_scorer\n",
    "from sklearn.compose import ColumnTransformer\n",
    "from sklearn.preprocessing import OneHotEncoder\n",
    "from sklearn.model_selection import cross_val_score\n",
    "from sklearn.model_selection import train_test_split\n",
    "from sklearn.model_selection import RepeatedKFold\n",
    "from sklearn.model_selection import GridSearchCV\n",
    "from sklearn.model_selection import ParameterGrid\n",
    "from sklearn.inspection import permutation_importance\n",
    "import multiprocessing"
   ]
  },
  {
   "cell_type": "code",
   "execution_count": 81,
   "id": "9253bf02",
   "metadata": {},
   "outputs": [],
   "source": [
    "df = pd.read_csv('../grid-search/res.csv')"
   ]
  },
  {
   "cell_type": "code",
   "execution_count": 82,
   "id": "dce34a6a",
   "metadata": {},
   "outputs": [
    {
     "name": "stderr",
     "output_type": "stream",
     "text": [
      "<ipython-input-82-b46070c8e644>:2: SettingWithCopyWarning: \n",
      "A value is trying to be set on a copy of a slice from a DataFrame\n",
      "\n",
      "See the caveats in the documentation: https://pandas.pydata.org/pandas-docs/stable/user_guide/indexing.html#returning-a-view-versus-a-copy\n",
      "  df_red.drop_duplicates(subset = ['n_estimators', 'learning_rate'], keep = 'first', inplace = True)\n"
     ]
    },
    {
     "data": {
      "text/html": [
       "<div>\n",
       "<style scoped>\n",
       "    .dataframe tbody tr th:only-of-type {\n",
       "        vertical-align: middle;\n",
       "    }\n",
       "\n",
       "    .dataframe tbody tr th {\n",
       "        vertical-align: top;\n",
       "    }\n",
       "\n",
       "    .dataframe thead th {\n",
       "        text-align: right;\n",
       "    }\n",
       "</style>\n",
       "<table border=\"1\" class=\"dataframe\">\n",
       "  <thead>\n",
       "    <tr style=\"text-align: right;\">\n",
       "      <th></th>\n",
       "      <th>n_estimators</th>\n",
       "      <th>learning_rate</th>\n",
       "      <th>score</th>\n",
       "    </tr>\n",
       "  </thead>\n",
       "  <tbody>\n",
       "    <tr>\n",
       "      <th>0</th>\n",
       "      <td>1600.0</td>\n",
       "      <td>0.15</td>\n",
       "      <td>0.743328</td>\n",
       "    </tr>\n",
       "    <tr>\n",
       "      <th>12</th>\n",
       "      <td>1450.0</td>\n",
       "      <td>0.15</td>\n",
       "      <td>0.743213</td>\n",
       "    </tr>\n",
       "    <tr>\n",
       "      <th>36</th>\n",
       "      <td>1750.0</td>\n",
       "      <td>0.15</td>\n",
       "      <td>0.742714</td>\n",
       "    </tr>\n",
       "    <tr>\n",
       "      <th>72</th>\n",
       "      <td>1750.0</td>\n",
       "      <td>0.10</td>\n",
       "      <td>0.742138</td>\n",
       "    </tr>\n",
       "    <tr>\n",
       "      <th>84</th>\n",
       "      <td>1600.0</td>\n",
       "      <td>0.10</td>\n",
       "      <td>0.741985</td>\n",
       "    </tr>\n",
       "    <tr>\n",
       "      <th>96</th>\n",
       "      <td>1450.0</td>\n",
       "      <td>0.20</td>\n",
       "      <td>0.741947</td>\n",
       "    </tr>\n",
       "    <tr>\n",
       "      <th>168</th>\n",
       "      <td>1750.0</td>\n",
       "      <td>0.20</td>\n",
       "      <td>0.741122</td>\n",
       "    </tr>\n",
       "    <tr>\n",
       "      <th>181</th>\n",
       "      <td>1600.0</td>\n",
       "      <td>0.20</td>\n",
       "      <td>0.740987</td>\n",
       "    </tr>\n",
       "    <tr>\n",
       "      <th>204</th>\n",
       "      <td>1450.0</td>\n",
       "      <td>0.10</td>\n",
       "      <td>0.740930</td>\n",
       "    </tr>\n",
       "  </tbody>\n",
       "</table>\n",
       "</div>"
      ],
      "text/plain": [
       "     n_estimators  learning_rate     score\n",
       "0          1600.0           0.15  0.743328\n",
       "12         1450.0           0.15  0.743213\n",
       "36         1750.0           0.15  0.742714\n",
       "72         1750.0           0.10  0.742138\n",
       "84         1600.0           0.10  0.741985\n",
       "96         1450.0           0.20  0.741947\n",
       "168        1750.0           0.20  0.741122\n",
       "181        1600.0           0.20  0.740987\n",
       "204        1450.0           0.10  0.740930"
      ]
     },
     "execution_count": 82,
     "metadata": {},
     "output_type": "execute_result"
    }
   ],
   "source": [
    "df_red = df[['n_estimators', 'learning_rate',  'score']]\n",
    "df_red.drop_duplicates(subset = ['n_estimators', 'learning_rate'], keep = 'first', inplace = True)\n",
    "df_red"
   ]
  },
  {
   "cell_type": "code",
   "execution_count": 83,
   "id": "34ec68a7",
   "metadata": {},
   "outputs": [
    {
     "data": {
      "text/html": [
       "<div>\n",
       "<style scoped>\n",
       "    .dataframe tbody tr th:only-of-type {\n",
       "        vertical-align: middle;\n",
       "    }\n",
       "\n",
       "    .dataframe tbody tr th {\n",
       "        vertical-align: top;\n",
       "    }\n",
       "\n",
       "    .dataframe thead th {\n",
       "        text-align: right;\n",
       "    }\n",
       "</style>\n",
       "<table border=\"1\" class=\"dataframe\">\n",
       "  <thead>\n",
       "    <tr style=\"text-align: right;\">\n",
       "      <th>n_estimators</th>\n",
       "      <th>1450.0</th>\n",
       "      <th>1600.0</th>\n",
       "      <th>1750.0</th>\n",
       "    </tr>\n",
       "    <tr>\n",
       "      <th>learning_rate</th>\n",
       "      <th></th>\n",
       "      <th></th>\n",
       "      <th></th>\n",
       "    </tr>\n",
       "  </thead>\n",
       "  <tbody>\n",
       "    <tr>\n",
       "      <th>0.20</th>\n",
       "      <td>0.741947</td>\n",
       "      <td>0.740987</td>\n",
       "      <td>0.741122</td>\n",
       "    </tr>\n",
       "    <tr>\n",
       "      <th>0.15</th>\n",
       "      <td>0.743213</td>\n",
       "      <td>0.743328</td>\n",
       "      <td>0.742714</td>\n",
       "    </tr>\n",
       "    <tr>\n",
       "      <th>0.10</th>\n",
       "      <td>0.740930</td>\n",
       "      <td>0.741985</td>\n",
       "      <td>0.742138</td>\n",
       "    </tr>\n",
       "  </tbody>\n",
       "</table>\n",
       "</div>"
      ],
      "text/plain": [
       "n_estimators     1450.0    1600.0    1750.0\n",
       "learning_rate                              \n",
       "0.20           0.741947  0.740987  0.741122\n",
       "0.15           0.743213  0.743328  0.742714\n",
       "0.10           0.740930  0.741985  0.742138"
      ]
     },
     "execution_count": 83,
     "metadata": {},
     "output_type": "execute_result"
    }
   ],
   "source": [
    "df_red = df_red.pivot_table(index = 'learning_rate', columns = 'n_estimators', values = 'score')\n",
    "df_red.sort_index(0, ascending = False, inplace = True)\n",
    "df_red"
   ]
  },
  {
   "cell_type": "code",
   "execution_count": 84,
   "id": "3e9a8b4c",
   "metadata": {},
   "outputs": [
    {
     "data": {
      "text/plain": [
       "Text(51.0, 0.5, \"Valor de 'learning_rate'\")"
      ]
     },
     "execution_count": 84,
     "metadata": {},
     "output_type": "execute_result"
    },
    {
     "data": {
      "image/png": "[encoded data removed]",
      "text/plain": [
       "<Figure size 576x576 with 2 Axes>"
      ]
     },
     "metadata": {
      "needs_background": "light"
     },
     "output_type": "display_data"
    }
   ],
   "source": [
    "fig, ax = plt.subplots(figsize=(8,8))\n",
    "sns.heatmap(df_red, cmap = 'cool', ax=ax)\n",
    "plt.title('Mejores modelos utilizando n_estimators y learning_rate', fontweight = 'bold', fontsize = 15)\n",
    "plt.xlabel(\"Valor de 'n_estimators'\")\n",
    "plt.ylabel(\"Valor de 'learning_rate'\")"
   ]
  },
  {
   "cell_type": "code",
   "execution_count": 99,
   "id": "cea39008",
   "metadata": {
    "scrolled": true
   },
   "outputs": [
    {
     "name": "stderr",
     "output_type": "stream",
     "text": [
      "<ipython-input-99-3a75abcb8a5e>:2: SettingWithCopyWarning: \n",
      "A value is trying to be set on a copy of a slice from a DataFrame\n",
      "\n",
      "See the caveats in the documentation: https://pandas.pydata.org/pandas-docs/stable/user_guide/indexing.html#returning-a-view-versus-a-copy\n",
      "  df_red.drop_duplicates(subset = ['learning_rate', 'subsample_for_bin'], keep = 'first', inplace = True)\n"
     ]
    }
   ],
   "source": [
    "df_red = df[['learning_rate', 'subsample_for_bin',  'score']]\n",
    "df_red.drop_duplicates(subset = ['learning_rate', 'subsample_for_bin'], keep = 'first', inplace = True)"
   ]
  },
  {
   "cell_type": "code",
   "execution_count": 100,
   "id": "217ed47f",
   "metadata": {},
   "outputs": [
    {
     "data": {
      "text/html": [
       "<div>\n",
       "<style scoped>\n",
       "    .dataframe tbody tr th:only-of-type {\n",
       "        vertical-align: middle;\n",
       "    }\n",
       "\n",
       "    .dataframe tbody tr th {\n",
       "        vertical-align: top;\n",
       "    }\n",
       "\n",
       "    .dataframe thead th {\n",
       "        text-align: right;\n",
       "    }\n",
       "</style>\n",
       "<table border=\"1\" class=\"dataframe\">\n",
       "  <thead>\n",
       "    <tr style=\"text-align: right;\">\n",
       "      <th>subsample_for_bin</th>\n",
       "      <th>160000.0</th>\n",
       "      <th>200000.0</th>\n",
       "      <th>240000.0</th>\n",
       "    </tr>\n",
       "    <tr>\n",
       "      <th>learning_rate</th>\n",
       "      <th></th>\n",
       "      <th></th>\n",
       "      <th></th>\n",
       "    </tr>\n",
       "  </thead>\n",
       "  <tbody>\n",
       "    <tr>\n",
       "      <th>0.20</th>\n",
       "      <td>0.741947</td>\n",
       "      <td>0.739875</td>\n",
       "      <td>0.741889</td>\n",
       "    </tr>\n",
       "    <tr>\n",
       "      <th>0.15</th>\n",
       "      <td>0.741525</td>\n",
       "      <td>0.743328</td>\n",
       "      <td>0.742810</td>\n",
       "    </tr>\n",
       "    <tr>\n",
       "      <th>0.10</th>\n",
       "      <td>0.741582</td>\n",
       "      <td>0.742138</td>\n",
       "      <td>0.741294</td>\n",
       "    </tr>\n",
       "  </tbody>\n",
       "</table>\n",
       "</div>"
      ],
      "text/plain": [
       "subsample_for_bin  160000.0  200000.0  240000.0\n",
       "learning_rate                                  \n",
       "0.20               0.741947  0.739875  0.741889\n",
       "0.15               0.741525  0.743328  0.742810\n",
       "0.10               0.741582  0.742138  0.741294"
      ]
     },
     "execution_count": 100,
     "metadata": {},
     "output_type": "execute_result"
    }
   ],
   "source": [
    "df_red = df_red.pivot_table(index = 'learning_rate', columns = 'subsample_for_bin', values = 'score')\n",
    "df_red.sort_index(0, ascending = False, inplace = True)\n",
    "df_red"
   ]
  },
  {
   "cell_type": "code",
   "execution_count": 102,
   "id": "b43a4ef2",
   "metadata": {},
   "outputs": [
    {
     "data": {
      "text/plain": [
       "Text(51.0, 0.5, \"Valor de 'learning_rate'\")"
      ]
     },
     "execution_count": 102,
     "metadata": {},
     "output_type": "execute_result"
    },
    {
     "data": {
      "image/png": "[encoded data removed]",
      "text/plain": [
       "<Figure size 576x576 with 2 Axes>"
      ]
     },
     "metadata": {
      "needs_background": "light"
     },
     "output_type": "display_data"
    }
   ],
   "source": [
    "fig, ax = plt.subplots(figsize=(8,8))\n",
    "sns.heatmap(df_red, cmap = 'cool', ax=ax)\n",
    "plt.title('Mejores modelos utilizando subsample_for_bin y learning_rate', fontweight = 'bold', fontsize = 15)\n",
    "plt.xlabel(\"Valor de 'subsample_for_bin'\")\n",
    "plt.ylabel(\"Valor de 'learning_rate'\")"
   ]
  }
 ],
 "metadata": {
  "kernelspec": {
   "display_name": "Python 3.8.5 64-bit",
   "language": "python",
   "name": "python385jvsc74a57bd031f2aee4e71d21fbe5cf8b01ff0e069b9275f58929596ceb00d14d90e3e16cd6"
  },
  "language_info": {
   "codemirror_mode": {
    "name": "ipython",
    "version": 3
   },
   "file_extension": ".py",
   "mimetype": "text/x-python",
   "name": "python",
   "nbconvert_exporter": "python",
   "pygments_lexer": "ipython3",
   "version": "3.8.10"
  }
 },
 "nbformat": 4,
 "nbformat_minor": 5
}
